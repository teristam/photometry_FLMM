{
 "cells": [
  {
   "cell_type": "markdown",
   "id": "cb9210b9-f39d-4094-9f74-e0bb3926dcfe",
   "metadata": {},
   "source": [
    "# Running fastFMM directly in a IRkernel"
   ]
  },
  {
   "cell_type": "code",
   "execution_count": 10,
   "id": "bf3785b9-0445-4553-8f2e-562a3158f75f",
   "metadata": {
    "vscode": {
     "languageId": "r"
    }
   },
   "outputs": [],
   "source": [
    "library(\"fastFMM\")\n",
    "library(\"arrow\") # need to use arrow for new feather format\n",
    "library(dplyr)"
   ]
  },
  {
   "cell_type": "code",
   "execution_count": 17,
   "id": "2c6471e9",
   "metadata": {
    "vscode": {
     "languageId": "r"
    }
   },
   "outputs": [
    {
     "data": {
      "text/html": [
       "<table class=\"dataframe\">\n",
       "<caption>A tibble: 6 × 180</caption>\n",
       "<thead>\n",
       "\t<tr><th scope=col>trial_id</th><th scope=col>animal_id</th><th scope=col>diff_bar_off_time</th><th scope=col>DA.1</th><th scope=col>DA.2</th><th scope=col>DA.3</th><th scope=col>DA.4</th><th scope=col>DA.5</th><th scope=col>DA.6</th><th scope=col>DA.7</th><th scope=col>⋯</th><th scope=col>DA.168</th><th scope=col>DA.169</th><th scope=col>DA.170</th><th scope=col>DA.171</th><th scope=col>DA.172</th><th scope=col>DA.173</th><th scope=col>DA.174</th><th scope=col>DA.175</th><th scope=col>zscored_diff_time</th><th scope=col>__index_level_0__</th></tr>\n",
       "\t<tr><th scope=col>&lt;int&gt;</th><th scope=col>&lt;chr&gt;</th><th scope=col>&lt;dbl&gt;</th><th scope=col>&lt;dbl&gt;</th><th scope=col>&lt;dbl&gt;</th><th scope=col>&lt;dbl&gt;</th><th scope=col>&lt;dbl&gt;</th><th scope=col>&lt;dbl&gt;</th><th scope=col>&lt;dbl&gt;</th><th scope=col>&lt;dbl&gt;</th><th scope=col>⋯</th><th scope=col>&lt;dbl&gt;</th><th scope=col>&lt;dbl&gt;</th><th scope=col>&lt;dbl&gt;</th><th scope=col>&lt;dbl&gt;</th><th scope=col>&lt;dbl&gt;</th><th scope=col>&lt;dbl&gt;</th><th scope=col>&lt;dbl&gt;</th><th scope=col>&lt;dbl&gt;</th><th scope=col>&lt;dbl&gt;</th><th scope=col>&lt;int&gt;</th></tr>\n",
       "</thead>\n",
       "<tbody>\n",
       "\t<tr><td> 0</td><td>RE017</td><td> 311</td><td>-1.6483561</td><td>-1.79559995</td><td>-0.61139331</td><td>-0.08431641</td><td> 0.7015204</td><td> 0.072317939</td><td>-0.13448525</td><td>⋯</td><td> 1.6834741</td><td> 1.9874941</td><td> 1.3288911</td><td> 2.27182243</td><td> 1.58254133</td><td> 1.4939447</td><td> 1.7616112</td><td> 2.4036608</td><td>-0.4290805</td><td> 0</td></tr>\n",
       "\t<tr><td> 1</td><td>RE017</td><td> 171</td><td>-3.8403475</td><td>-4.53472634</td><td>-4.17177101</td><td>-4.52963382</td><td>-3.9148567</td><td>-3.615064000</td><td>-3.07400048</td><td>⋯</td><td>-0.1021270</td><td>-0.7166210</td><td>-1.3219004</td><td>-1.69757234</td><td>-1.26668632</td><td>-0.1900444</td><td> 0.3664063</td><td> 1.6352960</td><td>-0.5064940</td><td> 1</td></tr>\n",
       "\t<tr><td> 2</td><td>RE017</td><td>-344</td><td>-0.1945162</td><td>-0.06012844</td><td> 0.56847022</td><td> 0.84729263</td><td> 0.6950855</td><td>-0.003256161</td><td> 0.06081276</td><td>⋯</td><td>-0.9935430</td><td>-0.5904711</td><td>-1.0444645</td><td>-0.38876256</td><td> 0.01710507</td><td> 0.2710900</td><td> 0.4206789</td><td> 0.5538312</td><td>-0.7912650</td><td> 2</td></tr>\n",
       "\t<tr><td> 3</td><td>RE017</td><td> 455</td><td> 0.1900403</td><td> 0.46268879</td><td> 0.07798145</td><td>-0.39522787</td><td> 0.2744739</td><td>-0.346627783</td><td>-0.52497862</td><td>⋯</td><td> 0.1087062</td><td> 1.2075286</td><td> 1.0504724</td><td> 1.97403179</td><td> 1.39151325</td><td> 1.5997495</td><td> 1.8014870</td><td> 1.7707296</td><td>-0.3494552</td><td> 3</td></tr>\n",
       "\t<tr><td>10</td><td>RE017</td><td> 252</td><td> 2.6970251</td><td> 1.79186228</td><td> 1.44282085</td><td> 1.57841417</td><td> 1.1085968</td><td> 0.470281825</td><td>-0.29014357</td><td>⋯</td><td> 0.3339813</td><td> 0.1802801</td><td> 0.8147522</td><td> 0.87106378</td><td> 0.60891105</td><td> 0.2114663</td><td> 0.4654368</td><td> 0.6367834</td><td>-0.4617048</td><td>10</td></tr>\n",
       "\t<tr><td>11</td><td>RE017</td><td> -13</td><td> 1.1885544</td><td> 0.11506640</td><td> 0.30805892</td><td> 0.39213519</td><td> 0.8610842</td><td> 0.587754321</td><td> 0.20896876</td><td>⋯</td><td> 0.7091205</td><td> 1.0672699</td><td>-0.1048729</td><td> 0.05634769</td><td>-0.04759931</td><td>-0.2671561</td><td>-0.2783847</td><td>-0.2069284</td><td>-0.6082374</td><td>11</td></tr>\n",
       "</tbody>\n",
       "</table>\n"
      ],
      "text/latex": [
       "A tibble: 6 × 180\n",
       "\\begin{tabular}{lllllllllllllllllllll}\n",
       " trial\\_id & animal\\_id & diff\\_bar\\_off\\_time & DA.1 & DA.2 & DA.3 & DA.4 & DA.5 & DA.6 & DA.7 & ⋯ & DA.168 & DA.169 & DA.170 & DA.171 & DA.172 & DA.173 & DA.174 & DA.175 & zscored\\_diff\\_time & \\_\\_index\\_level\\_0\\_\\_\\\\\n",
       " <int> & <chr> & <dbl> & <dbl> & <dbl> & <dbl> & <dbl> & <dbl> & <dbl> & <dbl> & ⋯ & <dbl> & <dbl> & <dbl> & <dbl> & <dbl> & <dbl> & <dbl> & <dbl> & <dbl> & <int>\\\\\n",
       "\\hline\n",
       "\t  0 & RE017 &  311 & -1.6483561 & -1.79559995 & -0.61139331 & -0.08431641 &  0.7015204 &  0.072317939 & -0.13448525 & ⋯ &  1.6834741 &  1.9874941 &  1.3288911 &  2.27182243 &  1.58254133 &  1.4939447 &  1.7616112 &  2.4036608 & -0.4290805 &  0\\\\\n",
       "\t  1 & RE017 &  171 & -3.8403475 & -4.53472634 & -4.17177101 & -4.52963382 & -3.9148567 & -3.615064000 & -3.07400048 & ⋯ & -0.1021270 & -0.7166210 & -1.3219004 & -1.69757234 & -1.26668632 & -0.1900444 &  0.3664063 &  1.6352960 & -0.5064940 &  1\\\\\n",
       "\t  2 & RE017 & -344 & -0.1945162 & -0.06012844 &  0.56847022 &  0.84729263 &  0.6950855 & -0.003256161 &  0.06081276 & ⋯ & -0.9935430 & -0.5904711 & -1.0444645 & -0.38876256 &  0.01710507 &  0.2710900 &  0.4206789 &  0.5538312 & -0.7912650 &  2\\\\\n",
       "\t  3 & RE017 &  455 &  0.1900403 &  0.46268879 &  0.07798145 & -0.39522787 &  0.2744739 & -0.346627783 & -0.52497862 & ⋯ &  0.1087062 &  1.2075286 &  1.0504724 &  1.97403179 &  1.39151325 &  1.5997495 &  1.8014870 &  1.7707296 & -0.3494552 &  3\\\\\n",
       "\t 10 & RE017 &  252 &  2.6970251 &  1.79186228 &  1.44282085 &  1.57841417 &  1.1085968 &  0.470281825 & -0.29014357 & ⋯ &  0.3339813 &  0.1802801 &  0.8147522 &  0.87106378 &  0.60891105 &  0.2114663 &  0.4654368 &  0.6367834 & -0.4617048 & 10\\\\\n",
       "\t 11 & RE017 &  -13 &  1.1885544 &  0.11506640 &  0.30805892 &  0.39213519 &  0.8610842 &  0.587754321 &  0.20896876 & ⋯ &  0.7091205 &  1.0672699 & -0.1048729 &  0.05634769 & -0.04759931 & -0.2671561 & -0.2783847 & -0.2069284 & -0.6082374 & 11\\\\\n",
       "\\end{tabular}\n"
      ],
      "text/markdown": [
       "\n",
       "A tibble: 6 × 180\n",
       "\n",
       "| trial_id &lt;int&gt; | animal_id &lt;chr&gt; | diff_bar_off_time &lt;dbl&gt; | DA.1 &lt;dbl&gt; | DA.2 &lt;dbl&gt; | DA.3 &lt;dbl&gt; | DA.4 &lt;dbl&gt; | DA.5 &lt;dbl&gt; | DA.6 &lt;dbl&gt; | DA.7 &lt;dbl&gt; | ⋯ ⋯ | DA.168 &lt;dbl&gt; | DA.169 &lt;dbl&gt; | DA.170 &lt;dbl&gt; | DA.171 &lt;dbl&gt; | DA.172 &lt;dbl&gt; | DA.173 &lt;dbl&gt; | DA.174 &lt;dbl&gt; | DA.175 &lt;dbl&gt; | zscored_diff_time &lt;dbl&gt; | __index_level_0__ &lt;int&gt; |\n",
       "|---|---|---|---|---|---|---|---|---|---|---|---|---|---|---|---|---|---|---|---|---|\n",
       "|  0 | RE017 |  311 | -1.6483561 | -1.79559995 | -0.61139331 | -0.08431641 |  0.7015204 |  0.072317939 | -0.13448525 | ⋯ |  1.6834741 |  1.9874941 |  1.3288911 |  2.27182243 |  1.58254133 |  1.4939447 |  1.7616112 |  2.4036608 | -0.4290805 |  0 |\n",
       "|  1 | RE017 |  171 | -3.8403475 | -4.53472634 | -4.17177101 | -4.52963382 | -3.9148567 | -3.615064000 | -3.07400048 | ⋯ | -0.1021270 | -0.7166210 | -1.3219004 | -1.69757234 | -1.26668632 | -0.1900444 |  0.3664063 |  1.6352960 | -0.5064940 |  1 |\n",
       "|  2 | RE017 | -344 | -0.1945162 | -0.06012844 |  0.56847022 |  0.84729263 |  0.6950855 | -0.003256161 |  0.06081276 | ⋯ | -0.9935430 | -0.5904711 | -1.0444645 | -0.38876256 |  0.01710507 |  0.2710900 |  0.4206789 |  0.5538312 | -0.7912650 |  2 |\n",
       "|  3 | RE017 |  455 |  0.1900403 |  0.46268879 |  0.07798145 | -0.39522787 |  0.2744739 | -0.346627783 | -0.52497862 | ⋯ |  0.1087062 |  1.2075286 |  1.0504724 |  1.97403179 |  1.39151325 |  1.5997495 |  1.8014870 |  1.7707296 | -0.3494552 |  3 |\n",
       "| 10 | RE017 |  252 |  2.6970251 |  1.79186228 |  1.44282085 |  1.57841417 |  1.1085968 |  0.470281825 | -0.29014357 | ⋯ |  0.3339813 |  0.1802801 |  0.8147522 |  0.87106378 |  0.60891105 |  0.2114663 |  0.4654368 |  0.6367834 | -0.4617048 | 10 |\n",
       "| 11 | RE017 |  -13 |  1.1885544 |  0.11506640 |  0.30805892 |  0.39213519 |  0.8610842 |  0.587754321 |  0.20896876 | ⋯ |  0.7091205 |  1.0672699 | -0.1048729 |  0.05634769 | -0.04759931 | -0.2671561 | -0.2783847 | -0.2069284 | -0.6082374 | 11 |\n",
       "\n"
      ],
      "text/plain": [
       "  trial_id animal_id diff_bar_off_time DA.1       DA.2        DA.3       \n",
       "1  0       RE017      311              -1.6483561 -1.79559995 -0.61139331\n",
       "2  1       RE017      171              -3.8403475 -4.53472634 -4.17177101\n",
       "3  2       RE017     -344              -0.1945162 -0.06012844  0.56847022\n",
       "4  3       RE017      455               0.1900403  0.46268879  0.07798145\n",
       "5 10       RE017      252               2.6970251  1.79186228  1.44282085\n",
       "6 11       RE017      -13               1.1885544  0.11506640  0.30805892\n",
       "  DA.4        DA.5       DA.6         DA.7        ⋯ DA.168     DA.169    \n",
       "1 -0.08431641  0.7015204  0.072317939 -0.13448525 ⋯  1.6834741  1.9874941\n",
       "2 -4.52963382 -3.9148567 -3.615064000 -3.07400048 ⋯ -0.1021270 -0.7166210\n",
       "3  0.84729263  0.6950855 -0.003256161  0.06081276 ⋯ -0.9935430 -0.5904711\n",
       "4 -0.39522787  0.2744739 -0.346627783 -0.52497862 ⋯  0.1087062  1.2075286\n",
       "5  1.57841417  1.1085968  0.470281825 -0.29014357 ⋯  0.3339813  0.1802801\n",
       "6  0.39213519  0.8610842  0.587754321  0.20896876 ⋯  0.7091205  1.0672699\n",
       "  DA.170     DA.171      DA.172      DA.173     DA.174     DA.175    \n",
       "1  1.3288911  2.27182243  1.58254133  1.4939447  1.7616112  2.4036608\n",
       "2 -1.3219004 -1.69757234 -1.26668632 -0.1900444  0.3664063  1.6352960\n",
       "3 -1.0444645 -0.38876256  0.01710507  0.2710900  0.4206789  0.5538312\n",
       "4  1.0504724  1.97403179  1.39151325  1.5997495  1.8014870  1.7707296\n",
       "5  0.8147522  0.87106378  0.60891105  0.2114663  0.4654368  0.6367834\n",
       "6 -0.1048729  0.05634769 -0.04759931 -0.2671561 -0.2783847 -0.2069284\n",
       "  zscored_diff_time __index_level_0__\n",
       "1 -0.4290805         0               \n",
       "2 -0.5064940         1               \n",
       "3 -0.7912650         2               \n",
       "4 -0.3494552         3               \n",
       "5 -0.4617048        10               \n",
       "6 -0.6082374        11               "
      ]
     },
     "metadata": {},
     "output_type": "display_data"
    }
   ],
   "source": [
    "data <- read_feather(\"../../../trialexp_notebook_learning/xr_aborted.feather\")\n",
    "head(data)"
   ]
  },
  {
   "cell_type": "code",
   "execution_count": 18,
   "id": "d3fa01aa",
   "metadata": {
    "vscode": {
     "languageId": "r"
    }
   },
   "outputs": [],
   "source": [
    "animal_list <- c(\"RE017\", \"TT013\")  # example list of animal IDs\n",
    "data_sel <- data %>% filter(animal_id %in% animal_list)"
   ]
  },
  {
   "cell_type": "code",
   "execution_count": 19,
   "id": "ca44ce24",
   "metadata": {
    "vscode": {
     "languageId": "r"
    }
   },
   "outputs": [
    {
     "data": {
      "text/html": [
       "<table class=\"dataframe\">\n",
       "<caption>A data.frame: 6 × 180</caption>\n",
       "<thead>\n",
       "\t<tr><th></th><th scope=col>trial_id</th><th scope=col>animal_id</th><th scope=col>diff_bar_off_time</th><th scope=col>DA.1</th><th scope=col>DA.2</th><th scope=col>DA.3</th><th scope=col>DA.4</th><th scope=col>DA.5</th><th scope=col>DA.6</th><th scope=col>DA.7</th><th scope=col>⋯</th><th scope=col>DA.168</th><th scope=col>DA.169</th><th scope=col>DA.170</th><th scope=col>DA.171</th><th scope=col>DA.172</th><th scope=col>DA.173</th><th scope=col>DA.174</th><th scope=col>DA.175</th><th scope=col>zscored_diff_time</th><th scope=col>__index_level_0__</th></tr>\n",
       "\t<tr><th></th><th scope=col>&lt;int&gt;</th><th scope=col>&lt;chr&gt;</th><th scope=col>&lt;dbl&gt;</th><th scope=col>&lt;dbl&gt;</th><th scope=col>&lt;dbl&gt;</th><th scope=col>&lt;dbl&gt;</th><th scope=col>&lt;dbl&gt;</th><th scope=col>&lt;dbl&gt;</th><th scope=col>&lt;dbl&gt;</th><th scope=col>&lt;dbl&gt;</th><th scope=col>⋯</th><th scope=col>&lt;dbl&gt;</th><th scope=col>&lt;dbl&gt;</th><th scope=col>&lt;dbl&gt;</th><th scope=col>&lt;dbl&gt;</th><th scope=col>&lt;dbl&gt;</th><th scope=col>&lt;dbl&gt;</th><th scope=col>&lt;dbl&gt;</th><th scope=col>&lt;dbl&gt;</th><th scope=col>&lt;dbl&gt;</th><th scope=col>&lt;int&gt;</th></tr>\n",
       "</thead>\n",
       "<tbody>\n",
       "\t<tr><th scope=row>1</th><td> 0</td><td>RE017</td><td> 311</td><td>-1.6483561</td><td>-1.79559995</td><td>-0.61139331</td><td>-0.08431641</td><td> 0.7015204</td><td> 0.072317939</td><td>-0.13448525</td><td>⋯</td><td> 1.6834741</td><td> 1.9874941</td><td> 1.3288911</td><td> 2.27182243</td><td> 1.58254133</td><td> 1.4939447</td><td> 1.7616112</td><td> 2.4036608</td><td>-0.4290805</td><td> 0</td></tr>\n",
       "\t<tr><th scope=row>2</th><td> 1</td><td>RE017</td><td> 171</td><td>-3.8403475</td><td>-4.53472634</td><td>-4.17177101</td><td>-4.52963382</td><td>-3.9148567</td><td>-3.615064000</td><td>-3.07400048</td><td>⋯</td><td>-0.1021270</td><td>-0.7166210</td><td>-1.3219004</td><td>-1.69757234</td><td>-1.26668632</td><td>-0.1900444</td><td> 0.3664063</td><td> 1.6352960</td><td>-0.5064940</td><td> 1</td></tr>\n",
       "\t<tr><th scope=row>3</th><td> 2</td><td>RE017</td><td>-344</td><td>-0.1945162</td><td>-0.06012844</td><td> 0.56847022</td><td> 0.84729263</td><td> 0.6950855</td><td>-0.003256161</td><td> 0.06081276</td><td>⋯</td><td>-0.9935430</td><td>-0.5904711</td><td>-1.0444645</td><td>-0.38876256</td><td> 0.01710507</td><td> 0.2710900</td><td> 0.4206789</td><td> 0.5538312</td><td>-0.7912650</td><td> 2</td></tr>\n",
       "\t<tr><th scope=row>4</th><td> 3</td><td>RE017</td><td> 455</td><td> 0.1900403</td><td> 0.46268879</td><td> 0.07798145</td><td>-0.39522787</td><td> 0.2744739</td><td>-0.346627783</td><td>-0.52497862</td><td>⋯</td><td> 0.1087062</td><td> 1.2075286</td><td> 1.0504724</td><td> 1.97403179</td><td> 1.39151325</td><td> 1.5997495</td><td> 1.8014870</td><td> 1.7707296</td><td>-0.3494552</td><td> 3</td></tr>\n",
       "\t<tr><th scope=row>5</th><td>10</td><td>RE017</td><td> 252</td><td> 2.6970251</td><td> 1.79186228</td><td> 1.44282085</td><td> 1.57841417</td><td> 1.1085968</td><td> 0.470281825</td><td>-0.29014357</td><td>⋯</td><td> 0.3339813</td><td> 0.1802801</td><td> 0.8147522</td><td> 0.87106378</td><td> 0.60891105</td><td> 0.2114663</td><td> 0.4654368</td><td> 0.6367834</td><td>-0.4617048</td><td>10</td></tr>\n",
       "\t<tr><th scope=row>6</th><td>11</td><td>RE017</td><td> -13</td><td> 1.1885544</td><td> 0.11506640</td><td> 0.30805892</td><td> 0.39213519</td><td> 0.8610842</td><td> 0.587754321</td><td> 0.20896876</td><td>⋯</td><td> 0.7091205</td><td> 1.0672699</td><td>-0.1048729</td><td> 0.05634769</td><td>-0.04759931</td><td>-0.2671561</td><td>-0.2783847</td><td>-0.2069284</td><td>-0.6082374</td><td>11</td></tr>\n",
       "</tbody>\n",
       "</table>\n"
      ],
      "text/latex": [
       "A data.frame: 6 × 180\n",
       "\\begin{tabular}{r|lllllllllllllllllllll}\n",
       "  & trial\\_id & animal\\_id & diff\\_bar\\_off\\_time & DA.1 & DA.2 & DA.3 & DA.4 & DA.5 & DA.6 & DA.7 & ⋯ & DA.168 & DA.169 & DA.170 & DA.171 & DA.172 & DA.173 & DA.174 & DA.175 & zscored\\_diff\\_time & \\_\\_index\\_level\\_0\\_\\_\\\\\n",
       "  & <int> & <chr> & <dbl> & <dbl> & <dbl> & <dbl> & <dbl> & <dbl> & <dbl> & <dbl> & ⋯ & <dbl> & <dbl> & <dbl> & <dbl> & <dbl> & <dbl> & <dbl> & <dbl> & <dbl> & <int>\\\\\n",
       "\\hline\n",
       "\t1 &  0 & RE017 &  311 & -1.6483561 & -1.79559995 & -0.61139331 & -0.08431641 &  0.7015204 &  0.072317939 & -0.13448525 & ⋯ &  1.6834741 &  1.9874941 &  1.3288911 &  2.27182243 &  1.58254133 &  1.4939447 &  1.7616112 &  2.4036608 & -0.4290805 &  0\\\\\n",
       "\t2 &  1 & RE017 &  171 & -3.8403475 & -4.53472634 & -4.17177101 & -4.52963382 & -3.9148567 & -3.615064000 & -3.07400048 & ⋯ & -0.1021270 & -0.7166210 & -1.3219004 & -1.69757234 & -1.26668632 & -0.1900444 &  0.3664063 &  1.6352960 & -0.5064940 &  1\\\\\n",
       "\t3 &  2 & RE017 & -344 & -0.1945162 & -0.06012844 &  0.56847022 &  0.84729263 &  0.6950855 & -0.003256161 &  0.06081276 & ⋯ & -0.9935430 & -0.5904711 & -1.0444645 & -0.38876256 &  0.01710507 &  0.2710900 &  0.4206789 &  0.5538312 & -0.7912650 &  2\\\\\n",
       "\t4 &  3 & RE017 &  455 &  0.1900403 &  0.46268879 &  0.07798145 & -0.39522787 &  0.2744739 & -0.346627783 & -0.52497862 & ⋯ &  0.1087062 &  1.2075286 &  1.0504724 &  1.97403179 &  1.39151325 &  1.5997495 &  1.8014870 &  1.7707296 & -0.3494552 &  3\\\\\n",
       "\t5 & 10 & RE017 &  252 &  2.6970251 &  1.79186228 &  1.44282085 &  1.57841417 &  1.1085968 &  0.470281825 & -0.29014357 & ⋯ &  0.3339813 &  0.1802801 &  0.8147522 &  0.87106378 &  0.60891105 &  0.2114663 &  0.4654368 &  0.6367834 & -0.4617048 & 10\\\\\n",
       "\t6 & 11 & RE017 &  -13 &  1.1885544 &  0.11506640 &  0.30805892 &  0.39213519 &  0.8610842 &  0.587754321 &  0.20896876 & ⋯ &  0.7091205 &  1.0672699 & -0.1048729 &  0.05634769 & -0.04759931 & -0.2671561 & -0.2783847 & -0.2069284 & -0.6082374 & 11\\\\\n",
       "\\end{tabular}\n"
      ],
      "text/markdown": [
       "\n",
       "A data.frame: 6 × 180\n",
       "\n",
       "| <!--/--> | trial_id &lt;int&gt; | animal_id &lt;chr&gt; | diff_bar_off_time &lt;dbl&gt; | DA.1 &lt;dbl&gt; | DA.2 &lt;dbl&gt; | DA.3 &lt;dbl&gt; | DA.4 &lt;dbl&gt; | DA.5 &lt;dbl&gt; | DA.6 &lt;dbl&gt; | DA.7 &lt;dbl&gt; | ⋯ ⋯ | DA.168 &lt;dbl&gt; | DA.169 &lt;dbl&gt; | DA.170 &lt;dbl&gt; | DA.171 &lt;dbl&gt; | DA.172 &lt;dbl&gt; | DA.173 &lt;dbl&gt; | DA.174 &lt;dbl&gt; | DA.175 &lt;dbl&gt; | zscored_diff_time &lt;dbl&gt; | __index_level_0__ &lt;int&gt; |\n",
       "|---|---|---|---|---|---|---|---|---|---|---|---|---|---|---|---|---|---|---|---|---|---|\n",
       "| 1 |  0 | RE017 |  311 | -1.6483561 | -1.79559995 | -0.61139331 | -0.08431641 |  0.7015204 |  0.072317939 | -0.13448525 | ⋯ |  1.6834741 |  1.9874941 |  1.3288911 |  2.27182243 |  1.58254133 |  1.4939447 |  1.7616112 |  2.4036608 | -0.4290805 |  0 |\n",
       "| 2 |  1 | RE017 |  171 | -3.8403475 | -4.53472634 | -4.17177101 | -4.52963382 | -3.9148567 | -3.615064000 | -3.07400048 | ⋯ | -0.1021270 | -0.7166210 | -1.3219004 | -1.69757234 | -1.26668632 | -0.1900444 |  0.3664063 |  1.6352960 | -0.5064940 |  1 |\n",
       "| 3 |  2 | RE017 | -344 | -0.1945162 | -0.06012844 |  0.56847022 |  0.84729263 |  0.6950855 | -0.003256161 |  0.06081276 | ⋯ | -0.9935430 | -0.5904711 | -1.0444645 | -0.38876256 |  0.01710507 |  0.2710900 |  0.4206789 |  0.5538312 | -0.7912650 |  2 |\n",
       "| 4 |  3 | RE017 |  455 |  0.1900403 |  0.46268879 |  0.07798145 | -0.39522787 |  0.2744739 | -0.346627783 | -0.52497862 | ⋯ |  0.1087062 |  1.2075286 |  1.0504724 |  1.97403179 |  1.39151325 |  1.5997495 |  1.8014870 |  1.7707296 | -0.3494552 |  3 |\n",
       "| 5 | 10 | RE017 |  252 |  2.6970251 |  1.79186228 |  1.44282085 |  1.57841417 |  1.1085968 |  0.470281825 | -0.29014357 | ⋯ |  0.3339813 |  0.1802801 |  0.8147522 |  0.87106378 |  0.60891105 |  0.2114663 |  0.4654368 |  0.6367834 | -0.4617048 | 10 |\n",
       "| 6 | 11 | RE017 |  -13 |  1.1885544 |  0.11506640 |  0.30805892 |  0.39213519 |  0.8610842 |  0.587754321 |  0.20896876 | ⋯ |  0.7091205 |  1.0672699 | -0.1048729 |  0.05634769 | -0.04759931 | -0.2671561 | -0.2783847 | -0.2069284 | -0.6082374 | 11 |\n",
       "\n"
      ],
      "text/plain": [
       "  trial_id animal_id diff_bar_off_time DA.1       DA.2        DA.3       \n",
       "1  0       RE017      311              -1.6483561 -1.79559995 -0.61139331\n",
       "2  1       RE017      171              -3.8403475 -4.53472634 -4.17177101\n",
       "3  2       RE017     -344              -0.1945162 -0.06012844  0.56847022\n",
       "4  3       RE017      455               0.1900403  0.46268879  0.07798145\n",
       "5 10       RE017      252               2.6970251  1.79186228  1.44282085\n",
       "6 11       RE017      -13               1.1885544  0.11506640  0.30805892\n",
       "  DA.4        DA.5       DA.6         DA.7        ⋯ DA.168     DA.169    \n",
       "1 -0.08431641  0.7015204  0.072317939 -0.13448525 ⋯  1.6834741  1.9874941\n",
       "2 -4.52963382 -3.9148567 -3.615064000 -3.07400048 ⋯ -0.1021270 -0.7166210\n",
       "3  0.84729263  0.6950855 -0.003256161  0.06081276 ⋯ -0.9935430 -0.5904711\n",
       "4 -0.39522787  0.2744739 -0.346627783 -0.52497862 ⋯  0.1087062  1.2075286\n",
       "5  1.57841417  1.1085968  0.470281825 -0.29014357 ⋯  0.3339813  0.1802801\n",
       "6  0.39213519  0.8610842  0.587754321  0.20896876 ⋯  0.7091205  1.0672699\n",
       "  DA.170     DA.171      DA.172      DA.173     DA.174     DA.175    \n",
       "1  1.3288911  2.27182243  1.58254133  1.4939447  1.7616112  2.4036608\n",
       "2 -1.3219004 -1.69757234 -1.26668632 -0.1900444  0.3664063  1.6352960\n",
       "3 -1.0444645 -0.38876256  0.01710507  0.2710900  0.4206789  0.5538312\n",
       "4  1.0504724  1.97403179  1.39151325  1.5997495  1.8014870  1.7707296\n",
       "5  0.8147522  0.87106378  0.60891105  0.2114663  0.4654368  0.6367834\n",
       "6 -0.1048729  0.05634769 -0.04759931 -0.2671561 -0.2783847 -0.2069284\n",
       "  zscored_diff_time __index_level_0__\n",
       "1 -0.4290805         0               \n",
       "2 -0.5064940         1               \n",
       "3 -0.7912650         2               \n",
       "4 -0.3494552         3               \n",
       "5 -0.4617048        10               \n",
       "6 -0.6082374        11               "
      ]
     },
     "metadata": {},
     "output_type": "display_data"
    }
   ],
   "source": [
    "df <- as.data.frame(data_sel)\n",
    "head(df)"
   ]
  },
  {
   "cell_type": "code",
   "execution_count": 9,
   "id": "ea313525-037e-4359-a90f-1b87818197b8",
   "metadata": {
    "vscode": {
     "languageId": "r"
    }
   },
   "outputs": [
    {
     "data": {
      "text/html": [
       "<table class=\"dataframe\">\n",
       "<caption>A matrix: 6 × 10 of type dbl</caption>\n",
       "<thead>\n",
       "\t<tr><th scope=col>id</th><th scope=col>session</th><th scope=col>trial</th><th scope=col>cs</th><th scope=col>photometry.1</th><th scope=col>photometry.2</th><th scope=col>photometry.3</th><th scope=col>photometry.4</th><th scope=col>photometry.5</th><th scope=col>photometry.6</th></tr>\n",
       "</thead>\n",
       "<tbody>\n",
       "\t<tr><td>3</td><td>1</td><td>1</td><td>0</td><td>-0.810</td><td>-0.626</td><td>-0.484</td><td>-0.414</td><td>-0.336</td><td>-0.335</td></tr>\n",
       "\t<tr><td>3</td><td>1</td><td>2</td><td>0</td><td>-0.037</td><td>-0.136</td><td> 0.005</td><td>-0.022</td><td> 0.029</td><td> 0.251</td></tr>\n",
       "\t<tr><td>3</td><td>1</td><td>3</td><td>0</td><td>-0.241</td><td>-0.058</td><td> 0.037</td><td>-0.075</td><td>-0.242</td><td>-0.276</td></tr>\n",
       "\t<tr><td>3</td><td>1</td><td>4</td><td>0</td><td> 0.058</td><td> 0.032</td><td>-0.041</td><td> 0.080</td><td> 0.062</td><td>-0.047</td></tr>\n",
       "\t<tr><td>3</td><td>1</td><td>5</td><td>0</td><td>-0.134</td><td> 0.024</td><td> 0.017</td><td>-0.128</td><td>-0.108</td><td>-0.086</td></tr>\n",
       "\t<tr><td>3</td><td>1</td><td>6</td><td>0</td><td>-0.547</td><td>-0.547</td><td>-0.444</td><td>-0.380</td><td>-0.309</td><td>-0.329</td></tr>\n",
       "</tbody>\n",
       "</table>\n"
      ],
      "text/latex": [
       "A matrix: 6 × 10 of type dbl\n",
       "\\begin{tabular}{llllllllll}\n",
       " id & session & trial & cs & photometry.1 & photometry.2 & photometry.3 & photometry.4 & photometry.5 & photometry.6\\\\\n",
       "\\hline\n",
       "\t 3 & 1 & 1 & 0 & -0.810 & -0.626 & -0.484 & -0.414 & -0.336 & -0.335\\\\\n",
       "\t 3 & 1 & 2 & 0 & -0.037 & -0.136 &  0.005 & -0.022 &  0.029 &  0.251\\\\\n",
       "\t 3 & 1 & 3 & 0 & -0.241 & -0.058 &  0.037 & -0.075 & -0.242 & -0.276\\\\\n",
       "\t 3 & 1 & 4 & 0 &  0.058 &  0.032 & -0.041 &  0.080 &  0.062 & -0.047\\\\\n",
       "\t 3 & 1 & 5 & 0 & -0.134 &  0.024 &  0.017 & -0.128 & -0.108 & -0.086\\\\\n",
       "\t 3 & 1 & 6 & 0 & -0.547 & -0.547 & -0.444 & -0.380 & -0.309 & -0.329\\\\\n",
       "\\end{tabular}\n"
      ],
      "text/markdown": [
       "\n",
       "A matrix: 6 × 10 of type dbl\n",
       "\n",
       "| id | session | trial | cs | photometry.1 | photometry.2 | photometry.3 | photometry.4 | photometry.5 | photometry.6 |\n",
       "|---|---|---|---|---|---|---|---|---|---|\n",
       "| 3 | 1 | 1 | 0 | -0.810 | -0.626 | -0.484 | -0.414 | -0.336 | -0.335 |\n",
       "| 3 | 1 | 2 | 0 | -0.037 | -0.136 |  0.005 | -0.022 |  0.029 |  0.251 |\n",
       "| 3 | 1 | 3 | 0 | -0.241 | -0.058 |  0.037 | -0.075 | -0.242 | -0.276 |\n",
       "| 3 | 1 | 4 | 0 |  0.058 |  0.032 | -0.041 |  0.080 |  0.062 | -0.047 |\n",
       "| 3 | 1 | 5 | 0 | -0.134 |  0.024 |  0.017 | -0.128 | -0.108 | -0.086 |\n",
       "| 3 | 1 | 6 | 0 | -0.547 | -0.547 | -0.444 | -0.380 | -0.309 | -0.329 |\n",
       "\n"
      ],
      "text/plain": [
       "     id session trial cs photometry.1 photometry.2 photometry.3 photometry.4\n",
       "[1,] 3  1       1     0  -0.810       -0.626       -0.484       -0.414      \n",
       "[2,] 3  1       2     0  -0.037       -0.136        0.005       -0.022      \n",
       "[3,] 3  1       3     0  -0.241       -0.058        0.037       -0.075      \n",
       "[4,] 3  1       4     0   0.058        0.032       -0.041        0.080      \n",
       "[5,] 3  1       5     0  -0.134        0.024        0.017       -0.128      \n",
       "[6,] 3  1       6     0  -0.547       -0.547       -0.444       -0.380      \n",
       "     photometry.5 photometry.6\n",
       "[1,] -0.336       -0.335      \n",
       "[2,]  0.029        0.251      \n",
       "[3,] -0.242       -0.276      \n",
       "[4,]  0.062       -0.047      \n",
       "[5,] -0.108       -0.086      \n",
       "[6,] -0.309       -0.329      "
      ]
     },
     "metadata": {},
     "output_type": "display_data"
    }
   ],
   "source": [
    "dat = read.csv(\"binary.csv\") # read in data\n",
    "head(as.matrix(round(dat[,1:10], 3)))"
   ]
  },
  {
   "cell_type": "code",
   "execution_count": null,
   "id": "a23814af-5711-4a00-a5b9-b60240ad3715",
   "metadata": {
    "vscode": {
     "languageId": "r"
    }
   },
   "outputs": [
    {
     "name": "stderr",
     "output_type": "stream",
     "text": [
      "Number of cores used for parallelization: 21\n",
      "\n"
     ]
    }
   ],
   "source": [
    "mod = fui(DA ~ zscored_diff_time + (1 | animal_id), data = df, parallel = TRUE) # fit random slope model\n"
   ]
  },
  {
   "cell_type": "code",
   "execution_count": 6,
   "id": "17a1664b-5206-49d3-b8fa-8f10389856b3",
   "metadata": {
    "vscode": {
     "languageId": "r"
    }
   },
   "outputs": [
    {
     "ename": "ERROR",
     "evalue": "Error: object 'mod' not found\n",
     "output_type": "error",
     "traceback": [
      "Error: object 'mod' not found\nTraceback:\n",
      "1. nrow(fuiobj$betaHat)",
      "2. .handleSimpleError(function (cnd) \n . {\n .     watcher$capture_plot_and_output()\n .     cnd <- sanitize_call(cnd)\n .     watcher$push(cnd)\n .     switch(on_error, continue = invokeRestart(\"eval_continue\"), \n .         stop = invokeRestart(\"eval_stop\"), error = NULL)\n . }, \"object 'mod' not found\", base::quote(eval(expr, envir)))"
     ]
    }
   ],
   "source": [
    "model_results = plot_fui(mod,  return = TRUE)"
   ]
  }
 ],
 "metadata": {
  "kernelspec": {
   "display_name": "R",
   "language": "R",
   "name": "ir"
  },
  "language_info": {
   "codemirror_mode": "r",
   "file_extension": ".r",
   "mimetype": "text/x-r-source",
   "name": "R",
   "pygments_lexer": "r",
   "version": "4.5.1"
  }
 },
 "nbformat": 4,
 "nbformat_minor": 5
}
