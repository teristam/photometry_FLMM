{
 "cells": [
  {
   "cell_type": "markdown",
   "id": "cb9210b9-f39d-4094-9f74-e0bb3926dcfe",
   "metadata": {},
   "source": [
    "# Running fastFMM directly in a IRkernel"
   ]
  },
  {
   "cell_type": "code",
   "execution_count": 1,
   "id": "bf3785b9-0445-4553-8f2e-562a3158f75f",
   "metadata": {
    "vscode": {
     "languageId": "r"
    }
   },
   "outputs": [
    {
     "name": "stderr",
     "output_type": "stream",
     "text": [
      "Loading required package: fastFMM\n",
      "\n"
     ]
    }
   ],
   "source": [
    "require('fastFMM')"
   ]
  },
  {
   "cell_type": "code",
   "execution_count": 2,
   "id": "ea313525-037e-4359-a90f-1b87818197b8",
   "metadata": {
    "vscode": {
     "languageId": "r"
    }
   },
   "outputs": [
    {
     "data": {
      "text/html": [
       "<table class=\"dataframe\">\n",
       "<caption>A matrix: 6 × 10 of type dbl</caption>\n",
       "<thead>\n",
       "\t<tr><th scope=col>id</th><th scope=col>session</th><th scope=col>trial</th><th scope=col>cs</th><th scope=col>photometry.1</th><th scope=col>photometry.2</th><th scope=col>photometry.3</th><th scope=col>photometry.4</th><th scope=col>photometry.5</th><th scope=col>photometry.6</th></tr>\n",
       "</thead>\n",
       "<tbody>\n",
       "\t<tr><td>3</td><td>1</td><td>1</td><td>0</td><td>-0.810</td><td>-0.626</td><td>-0.484</td><td>-0.414</td><td>-0.336</td><td>-0.335</td></tr>\n",
       "\t<tr><td>3</td><td>1</td><td>2</td><td>0</td><td>-0.037</td><td>-0.136</td><td> 0.005</td><td>-0.022</td><td> 0.029</td><td> 0.251</td></tr>\n",
       "\t<tr><td>3</td><td>1</td><td>3</td><td>0</td><td>-0.241</td><td>-0.058</td><td> 0.037</td><td>-0.075</td><td>-0.242</td><td>-0.276</td></tr>\n",
       "\t<tr><td>3</td><td>1</td><td>4</td><td>0</td><td> 0.058</td><td> 0.032</td><td>-0.041</td><td> 0.080</td><td> 0.062</td><td>-0.047</td></tr>\n",
       "\t<tr><td>3</td><td>1</td><td>5</td><td>0</td><td>-0.134</td><td> 0.024</td><td> 0.017</td><td>-0.128</td><td>-0.108</td><td>-0.086</td></tr>\n",
       "\t<tr><td>3</td><td>1</td><td>6</td><td>0</td><td>-0.547</td><td>-0.547</td><td>-0.444</td><td>-0.380</td><td>-0.309</td><td>-0.329</td></tr>\n",
       "</tbody>\n",
       "</table>\n"
      ],
      "text/latex": [
       "A matrix: 6 × 10 of type dbl\n",
       "\\begin{tabular}{llllllllll}\n",
       " id & session & trial & cs & photometry.1 & photometry.2 & photometry.3 & photometry.4 & photometry.5 & photometry.6\\\\\n",
       "\\hline\n",
       "\t 3 & 1 & 1 & 0 & -0.810 & -0.626 & -0.484 & -0.414 & -0.336 & -0.335\\\\\n",
       "\t 3 & 1 & 2 & 0 & -0.037 & -0.136 &  0.005 & -0.022 &  0.029 &  0.251\\\\\n",
       "\t 3 & 1 & 3 & 0 & -0.241 & -0.058 &  0.037 & -0.075 & -0.242 & -0.276\\\\\n",
       "\t 3 & 1 & 4 & 0 &  0.058 &  0.032 & -0.041 &  0.080 &  0.062 & -0.047\\\\\n",
       "\t 3 & 1 & 5 & 0 & -0.134 &  0.024 &  0.017 & -0.128 & -0.108 & -0.086\\\\\n",
       "\t 3 & 1 & 6 & 0 & -0.547 & -0.547 & -0.444 & -0.380 & -0.309 & -0.329\\\\\n",
       "\\end{tabular}\n"
      ],
      "text/markdown": [
       "\n",
       "A matrix: 6 × 10 of type dbl\n",
       "\n",
       "| id | session | trial | cs | photometry.1 | photometry.2 | photometry.3 | photometry.4 | photometry.5 | photometry.6 |\n",
       "|---|---|---|---|---|---|---|---|---|---|\n",
       "| 3 | 1 | 1 | 0 | -0.810 | -0.626 | -0.484 | -0.414 | -0.336 | -0.335 |\n",
       "| 3 | 1 | 2 | 0 | -0.037 | -0.136 |  0.005 | -0.022 |  0.029 |  0.251 |\n",
       "| 3 | 1 | 3 | 0 | -0.241 | -0.058 |  0.037 | -0.075 | -0.242 | -0.276 |\n",
       "| 3 | 1 | 4 | 0 |  0.058 |  0.032 | -0.041 |  0.080 |  0.062 | -0.047 |\n",
       "| 3 | 1 | 5 | 0 | -0.134 |  0.024 |  0.017 | -0.128 | -0.108 | -0.086 |\n",
       "| 3 | 1 | 6 | 0 | -0.547 | -0.547 | -0.444 | -0.380 | -0.309 | -0.329 |\n",
       "\n"
      ],
      "text/plain": [
       "     id session trial cs photometry.1 photometry.2 photometry.3 photometry.4\n",
       "[1,] 3  1       1     0  -0.810       -0.626       -0.484       -0.414      \n",
       "[2,] 3  1       2     0  -0.037       -0.136        0.005       -0.022      \n",
       "[3,] 3  1       3     0  -0.241       -0.058        0.037       -0.075      \n",
       "[4,] 3  1       4     0   0.058        0.032       -0.041        0.080      \n",
       "[5,] 3  1       5     0  -0.134        0.024        0.017       -0.128      \n",
       "[6,] 3  1       6     0  -0.547       -0.547       -0.444       -0.380      \n",
       "     photometry.5 photometry.6\n",
       "[1,] -0.336       -0.335      \n",
       "[2,]  0.029        0.251      \n",
       "[3,] -0.242       -0.276      \n",
       "[4,]  0.062       -0.047      \n",
       "[5,] -0.108       -0.086      \n",
       "[6,] -0.309       -0.329      "
      ]
     },
     "metadata": {},
     "output_type": "display_data"
    }
   ],
   "source": [
    "dat = read.csv(\"binary.csv\") # read in data\n",
    "head(as.matrix(round(dat[,1:10], 3)))"
   ]
  },
  {
   "cell_type": "code",
   "execution_count": 3,
   "id": "a23814af-5711-4a00-a5b9-b60240ad3715",
   "metadata": {
    "vscode": {
     "languageId": "r"
    }
   },
   "outputs": [
    {
     "name": "stderr",
     "output_type": "stream",
     "text": [
      "Number of cores used for parallelization: 21\n",
      "\n"
     ]
    },
    {
     "name": "stdout",
     "output_type": "stream",
     "text": [
      "[1] \"Step 1: Fit Massively Univariate Mixed Models\"\n",
      "[1] \"Step 2: Smoothing\"\n",
      "[1] \"Step 3: Inference (Analytic)\"\n",
      "[1] \"Step 3.1: Preparation\"\n",
      "[1] \"Step 3.1.1: Preparation B\"\n",
      "[1] \"Step 3.1.1: Method of Moments Covariance Estimator\"\n",
      "[1] \"Step 3.1.2: Smooth G\"\n",
      "[1] \"Step 3.2: First step\"\n",
      "[1] \"Step 3.2.1: First step\"\n",
      "[1] \"Step 3.3: Second step\"\n"
     ]
    },
    {
     "name": "stderr",
     "output_type": "stream",
     "text": [
      "Complete!\n",
      " - Use plot_fui() function to plot estimates.\n",
      " - For more information, run the command:  ?plot_fui\n",
      "\n"
     ]
    }
   ],
   "source": [
    "mod = fui(photometry ~ cs + (cs | id), data = dat, parallel = TRUE) # fit random slope model\n"
   ]
  },
  {
   "cell_type": "code",
   "execution_count": 4,
   "id": "17a1664b-5206-49d3-b8fa-8f10389856b3",
   "metadata": {
    "vscode": {
     "languageId": "r"
    }
   },
   "outputs": [
    {
     "data": {
      "image/png": "[encoded data removed]",
      "text/plain": [
       "plot without title"
      ]
     },
     "metadata": {
      "image/png": {
       "height": 420,
       "width": 420
      }
     },
     "output_type": "display_data"
    }
   ],
   "source": [
    "model_results = plot_fui(mod,  return = TRUE)"
   ]
  },
  {
   "cell_type": "code",
   "execution_count": 13,
   "id": "ca0ed090-d67b-4152-abf2-19f497d7604b",
   "metadata": {
    "vscode": {
     "languageId": "r"
    }
   },
   "outputs": [
    {
     "ename": "ERROR",
     "evalue": "Error in type(model_results): could not find function \"type\"\n",
     "output_type": "error",
     "traceback": [
      "Error in type(model_results): could not find function \"type\"\nTraceback:\n"
     ]
    }
   ],
   "source": [
    "type(model_results)"
   ]
  },
  {
   "cell_type": "code",
   "execution_count": 15,
   "id": "ef21571e-17b9-49d1-bf9b-0e5e9647d1f3",
   "metadata": {
    "vscode": {
     "languageId": "r"
    }
   },
   "outputs": [],
   "source": [
    "library(ncdf4)"
   ]
  },
  {
   "cell_type": "code",
   "execution_count": 16,
   "id": "ea8b2e51-618f-486a-a63e-79292a75c7f2",
   "metadata": {
    "vscode": {
     "languageId": "r"
    }
   },
   "outputs": [],
   "source": [
    "nc <- nc_open(\"sresa1b_ncar_ccsm3-example.nc\")"
   ]
  },
  {
   "cell_type": "code",
   "execution_count": 25,
   "id": "5ad19e57-a7e9-4871-b527-48e44a285e41",
   "metadata": {
    "vscode": {
     "languageId": "r"
    }
   },
   "outputs": [],
   "source": [
    "pr <- nc$var[['pr']]"
   ]
  },
  {
   "cell_type": "markdown",
   "id": "09e9cb5b-aa69-4a54-9d52-0e282bcd343b",
   "metadata": {},
   "source": [
    "# use tidync"
   ]
  },
  {
   "cell_type": "code",
   "execution_count": 27,
   "id": "1be5ec79-7e97-44ea-9a5b-887f5c5dc6cb",
   "metadata": {
    "vscode": {
     "languageId": "r"
    }
   },
   "outputs": [],
   "source": [
    "ice_file <- system.file(\"extdata\", \"ifremer\", \"20171002.nc\", package = \"tidync\", mustWork = TRUE)"
   ]
  },
  {
   "cell_type": "code",
   "execution_count": 40,
   "id": "12e2f5bc-4ebe-4946-b846-5ba326bcd187",
   "metadata": {
    "vscode": {
     "languageId": "r"
    }
   },
   "outputs": [],
   "source": [
    "library(tidync)\n",
    "nc <-tidync(ice_file)"
   ]
  },
  {
   "cell_type": "code",
   "execution_count": 41,
   "id": "20530315-337a-4d52-a8ec-5747f0440fab",
   "metadata": {
    "vscode": {
     "languageId": "r"
    }
   },
   "outputs": [
    {
     "data": {
      "text/plain": [
       "\n",
       "Data Source (1): 20171002.nc ...\n",
       "\n",
       "Grids (2) <dimension family> : <associated variables> \n",
       "\n",
       "[1]   D0,D1,D2 : concentration, quality_flag    **ACTIVE GRID** ( 419648  values per variable)\n",
       "[2]   D2       : time\n",
       "\n",
       "Dimensions 3 (all active): \n",
       "  \n",
       "  dim   name  length     min     max start count    dmin    dmax unlim coord_dim \n",
       "  \u001b[3m\u001b[90m<chr>\u001b[39m\u001b[23m \u001b[3m\u001b[90m<chr>\u001b[39m\u001b[23m  \u001b[3m\u001b[90m<dbl>\u001b[39m\u001b[23m   \u001b[3m\u001b[90m<dbl>\u001b[39m\u001b[23m   \u001b[3m\u001b[90m<dbl>\u001b[39m\u001b[23m \u001b[3m\u001b[90m<int>\u001b[39m\u001b[23m \u001b[3m\u001b[90m<int>\u001b[39m\u001b[23m   \u001b[3m\u001b[90m<dbl>\u001b[39m\u001b[23m   \u001b[3m\u001b[90m<dbl>\u001b[39m\u001b[23m \u001b[3m\u001b[90m<lgl>\u001b[39m\u001b[23m \u001b[3m\u001b[90m<lgl>\u001b[39m\u001b[23m     \n",
       "\u001b[90m1\u001b[39m D0    ni       632       1     632     1   632       1     632 FALSE FALSE     \n",
       "\u001b[90m2\u001b[39m D1    nj       664       1     664     1   664       1     664 FALSE FALSE     \n",
       "\u001b[90m3\u001b[39m D2    time       1 1\u001b[4m0\u001b[24m\u001b[4m3\u001b[24m\u001b[4m2\u001b[24m204 1\u001b[4m0\u001b[24m\u001b[4m3\u001b[24m\u001b[4m2\u001b[24m204     1     1 1\u001b[4m0\u001b[24m\u001b[4m3\u001b[24m\u001b[4m2\u001b[24m204 1\u001b[4m0\u001b[24m\u001b[4m3\u001b[24m\u001b[4m2\u001b[24m204 FALSE TRUE      "
      ]
     },
     "metadata": {},
     "output_type": "display_data"
    }
   ],
   "source": [
    "nc"
   ]
  },
  {
   "cell_type": "code",
   "execution_count": 31,
   "id": "8d69339a-a8a5-4415-8bc1-5b15a22c4943",
   "metadata": {
    "vscode": {
     "languageId": "r"
    }
   },
   "outputs": [],
   "source": [
    "hf <- concentration %>% \n",
    "  hyper_filter(ni = index > 150, \n",
    "               nj = dplyr::between(index, 30, 100))"
   ]
  },
  {
   "cell_type": "code",
   "execution_count": 33,
   "id": "23d769f2-48a6-417c-b20d-58b21505c030",
   "metadata": {
    "vscode": {
     "languageId": "r"
    }
   },
   "outputs": [
    {
     "data": {
      "text/plain": [
       "Class: tidync_data (list of tidync data arrays)\n",
       "Variables (2): 'concentration', 'quality_flag'\n",
       "Dimension (2): ni,nj,time (482, 71)\n",
       "Source: /home/MRC.OX.AC.UK/ndcn1330/R/x86_64-pc-linux-gnu-library/4.5/tidync/extdata/ifremer/20171002.nc"
      ]
     },
     "metadata": {},
     "output_type": "display_data"
    }
   ],
   "source": [
    "hf %>% hyper_array()"
   ]
  },
  {
   "cell_type": "code",
   "execution_count": 44,
   "id": "3fd03e92-e332-4f3e-b719-73b22d8020c5",
   "metadata": {
    "vscode": {
     "languageId": "r"
    }
   },
   "outputs": [],
   "source": [
    "df <- nc %>%\n",
    "  hyper_tibble(select_var = c(\"concentration\"))"
   ]
  },
  {
   "cell_type": "code",
   "execution_count": 45,
   "id": "d7c8b630-385e-4d84-9138-473c724d20d9",
   "metadata": {
    "vscode": {
     "languageId": "r"
    }
   },
   "outputs": [
    {
     "data": {
      "text/html": [
       "<table class=\"dataframe\">\n",
       "<caption>A tibble: 207195 × 3</caption>\n",
       "<thead>\n",
       "\t<tr><th scope=col>concentration</th><th scope=col>ni</th><th scope=col>nj</th></tr>\n",
       "\t<tr><th scope=col>&lt;int&gt;</th><th scope=col>&lt;chr&gt;</th><th scope=col>&lt;chr&gt;</th></tr>\n",
       "</thead>\n",
       "<tbody>\n",
       "\t<tr><td>0</td><td>291</td><td>5</td></tr>\n",
       "\t<tr><td>0</td><td>292</td><td>5</td></tr>\n",
       "\t<tr><td>0</td><td>293</td><td>5</td></tr>\n",
       "\t<tr><td>0</td><td>294</td><td>5</td></tr>\n",
       "\t<tr><td>0</td><td>295</td><td>5</td></tr>\n",
       "\t<tr><td>0</td><td>296</td><td>5</td></tr>\n",
       "\t<tr><td>0</td><td>297</td><td>5</td></tr>\n",
       "\t<tr><td>0</td><td>298</td><td>5</td></tr>\n",
       "\t<tr><td>0</td><td>299</td><td>5</td></tr>\n",
       "\t<tr><td>0</td><td>300</td><td>5</td></tr>\n",
       "\t<tr><td>0</td><td>301</td><td>5</td></tr>\n",
       "\t<tr><td>0</td><td>302</td><td>5</td></tr>\n",
       "\t<tr><td>0</td><td>303</td><td>5</td></tr>\n",
       "\t<tr><td>0</td><td>304</td><td>5</td></tr>\n",
       "\t<tr><td>0</td><td>305</td><td>5</td></tr>\n",
       "\t<tr><td>0</td><td>306</td><td>5</td></tr>\n",
       "\t<tr><td>0</td><td>307</td><td>5</td></tr>\n",
       "\t<tr><td>0</td><td>308</td><td>5</td></tr>\n",
       "\t<tr><td>0</td><td>309</td><td>5</td></tr>\n",
       "\t<tr><td>0</td><td>310</td><td>5</td></tr>\n",
       "\t<tr><td>0</td><td>311</td><td>5</td></tr>\n",
       "\t<tr><td>0</td><td>312</td><td>5</td></tr>\n",
       "\t<tr><td>0</td><td>313</td><td>5</td></tr>\n",
       "\t<tr><td>0</td><td>314</td><td>5</td></tr>\n",
       "\t<tr><td>0</td><td>315</td><td>5</td></tr>\n",
       "\t<tr><td>0</td><td>316</td><td>5</td></tr>\n",
       "\t<tr><td>0</td><td>317</td><td>5</td></tr>\n",
       "\t<tr><td>0</td><td>318</td><td>5</td></tr>\n",
       "\t<tr><td>0</td><td>319</td><td>5</td></tr>\n",
       "\t<tr><td>0</td><td>320</td><td>5</td></tr>\n",
       "\t<tr><td>⋮</td><td>⋮</td><td>⋮</td></tr>\n",
       "\t<tr><td>0</td><td>363</td><td>630</td></tr>\n",
       "\t<tr><td>0</td><td>364</td><td>630</td></tr>\n",
       "\t<tr><td>0</td><td>365</td><td>630</td></tr>\n",
       "\t<tr><td>0</td><td>366</td><td>630</td></tr>\n",
       "\t<tr><td>0</td><td>367</td><td>630</td></tr>\n",
       "\t<tr><td>0</td><td>368</td><td>630</td></tr>\n",
       "\t<tr><td>0</td><td>369</td><td>630</td></tr>\n",
       "\t<tr><td>0</td><td>370</td><td>630</td></tr>\n",
       "\t<tr><td>0</td><td>371</td><td>630</td></tr>\n",
       "\t<tr><td>0</td><td>372</td><td>630</td></tr>\n",
       "\t<tr><td>0</td><td>373</td><td>630</td></tr>\n",
       "\t<tr><td>0</td><td>374</td><td>630</td></tr>\n",
       "\t<tr><td>0</td><td>375</td><td>630</td></tr>\n",
       "\t<tr><td>0</td><td>376</td><td>630</td></tr>\n",
       "\t<tr><td>0</td><td>377</td><td>630</td></tr>\n",
       "\t<tr><td>0</td><td>378</td><td>630</td></tr>\n",
       "\t<tr><td>0</td><td>379</td><td>630</td></tr>\n",
       "\t<tr><td>0</td><td>380</td><td>630</td></tr>\n",
       "\t<tr><td>0</td><td>381</td><td>630</td></tr>\n",
       "\t<tr><td>0</td><td>382</td><td>630</td></tr>\n",
       "\t<tr><td>0</td><td>383</td><td>630</td></tr>\n",
       "\t<tr><td>0</td><td>384</td><td>630</td></tr>\n",
       "\t<tr><td>0</td><td>385</td><td>630</td></tr>\n",
       "\t<tr><td>0</td><td>386</td><td>630</td></tr>\n",
       "\t<tr><td>0</td><td>387</td><td>630</td></tr>\n",
       "\t<tr><td>0</td><td>388</td><td>630</td></tr>\n",
       "\t<tr><td>0</td><td>389</td><td>630</td></tr>\n",
       "\t<tr><td>0</td><td>390</td><td>630</td></tr>\n",
       "\t<tr><td>0</td><td>391</td><td>630</td></tr>\n",
       "\t<tr><td>0</td><td>392</td><td>630</td></tr>\n",
       "</tbody>\n",
       "</table>\n"
      ],
      "text/latex": [
       "A tibble: 207195 × 3\n",
       "\\begin{tabular}{lll}\n",
       " concentration & ni & nj\\\\\n",
       " <int> & <chr> & <chr>\\\\\n",
       "\\hline\n",
       "\t 0 & 291 & 5\\\\\n",
       "\t 0 & 292 & 5\\\\\n",
       "\t 0 & 293 & 5\\\\\n",
       "\t 0 & 294 & 5\\\\\n",
       "\t 0 & 295 & 5\\\\\n",
       "\t 0 & 296 & 5\\\\\n",
       "\t 0 & 297 & 5\\\\\n",
       "\t 0 & 298 & 5\\\\\n",
       "\t 0 & 299 & 5\\\\\n",
       "\t 0 & 300 & 5\\\\\n",
       "\t 0 & 301 & 5\\\\\n",
       "\t 0 & 302 & 5\\\\\n",
       "\t 0 & 303 & 5\\\\\n",
       "\t 0 & 304 & 5\\\\\n",
       "\t 0 & 305 & 5\\\\\n",
       "\t 0 & 306 & 5\\\\\n",
       "\t 0 & 307 & 5\\\\\n",
       "\t 0 & 308 & 5\\\\\n",
       "\t 0 & 309 & 5\\\\\n",
       "\t 0 & 310 & 5\\\\\n",
       "\t 0 & 311 & 5\\\\\n",
       "\t 0 & 312 & 5\\\\\n",
       "\t 0 & 313 & 5\\\\\n",
       "\t 0 & 314 & 5\\\\\n",
       "\t 0 & 315 & 5\\\\\n",
       "\t 0 & 316 & 5\\\\\n",
       "\t 0 & 317 & 5\\\\\n",
       "\t 0 & 318 & 5\\\\\n",
       "\t 0 & 319 & 5\\\\\n",
       "\t 0 & 320 & 5\\\\\n",
       "\t ⋮ & ⋮ & ⋮\\\\\n",
       "\t 0 & 363 & 630\\\\\n",
       "\t 0 & 364 & 630\\\\\n",
       "\t 0 & 365 & 630\\\\\n",
       "\t 0 & 366 & 630\\\\\n",
       "\t 0 & 367 & 630\\\\\n",
       "\t 0 & 368 & 630\\\\\n",
       "\t 0 & 369 & 630\\\\\n",
       "\t 0 & 370 & 630\\\\\n",
       "\t 0 & 371 & 630\\\\\n",
       "\t 0 & 372 & 630\\\\\n",
       "\t 0 & 373 & 630\\\\\n",
       "\t 0 & 374 & 630\\\\\n",
       "\t 0 & 375 & 630\\\\\n",
       "\t 0 & 376 & 630\\\\\n",
       "\t 0 & 377 & 630\\\\\n",
       "\t 0 & 378 & 630\\\\\n",
       "\t 0 & 379 & 630\\\\\n",
       "\t 0 & 380 & 630\\\\\n",
       "\t 0 & 381 & 630\\\\\n",
       "\t 0 & 382 & 630\\\\\n",
       "\t 0 & 383 & 630\\\\\n",
       "\t 0 & 384 & 630\\\\\n",
       "\t 0 & 385 & 630\\\\\n",
       "\t 0 & 386 & 630\\\\\n",
       "\t 0 & 387 & 630\\\\\n",
       "\t 0 & 388 & 630\\\\\n",
       "\t 0 & 389 & 630\\\\\n",
       "\t 0 & 390 & 630\\\\\n",
       "\t 0 & 391 & 630\\\\\n",
       "\t 0 & 392 & 630\\\\\n",
       "\\end{tabular}\n"
      ],
      "text/markdown": [
       "\n",
       "A tibble: 207195 × 3\n",
       "\n",
       "| concentration &lt;int&gt; | ni &lt;chr&gt; | nj &lt;chr&gt; |\n",
       "|---|---|---|\n",
       "| 0 | 291 | 5 |\n",
       "| 0 | 292 | 5 |\n",
       "| 0 | 293 | 5 |\n",
       "| 0 | 294 | 5 |\n",
       "| 0 | 295 | 5 |\n",
       "| 0 | 296 | 5 |\n",
       "| 0 | 297 | 5 |\n",
       "| 0 | 298 | 5 |\n",
       "| 0 | 299 | 5 |\n",
       "| 0 | 300 | 5 |\n",
       "| 0 | 301 | 5 |\n",
       "| 0 | 302 | 5 |\n",
       "| 0 | 303 | 5 |\n",
       "| 0 | 304 | 5 |\n",
       "| 0 | 305 | 5 |\n",
       "| 0 | 306 | 5 |\n",
       "| 0 | 307 | 5 |\n",
       "| 0 | 308 | 5 |\n",
       "| 0 | 309 | 5 |\n",
       "| 0 | 310 | 5 |\n",
       "| 0 | 311 | 5 |\n",
       "| 0 | 312 | 5 |\n",
       "| 0 | 313 | 5 |\n",
       "| 0 | 314 | 5 |\n",
       "| 0 | 315 | 5 |\n",
       "| 0 | 316 | 5 |\n",
       "| 0 | 317 | 5 |\n",
       "| 0 | 318 | 5 |\n",
       "| 0 | 319 | 5 |\n",
       "| 0 | 320 | 5 |\n",
       "| ⋮ | ⋮ | ⋮ |\n",
       "| 0 | 363 | 630 |\n",
       "| 0 | 364 | 630 |\n",
       "| 0 | 365 | 630 |\n",
       "| 0 | 366 | 630 |\n",
       "| 0 | 367 | 630 |\n",
       "| 0 | 368 | 630 |\n",
       "| 0 | 369 | 630 |\n",
       "| 0 | 370 | 630 |\n",
       "| 0 | 371 | 630 |\n",
       "| 0 | 372 | 630 |\n",
       "| 0 | 373 | 630 |\n",
       "| 0 | 374 | 630 |\n",
       "| 0 | 375 | 630 |\n",
       "| 0 | 376 | 630 |\n",
       "| 0 | 377 | 630 |\n",
       "| 0 | 378 | 630 |\n",
       "| 0 | 379 | 630 |\n",
       "| 0 | 380 | 630 |\n",
       "| 0 | 381 | 630 |\n",
       "| 0 | 382 | 630 |\n",
       "| 0 | 383 | 630 |\n",
       "| 0 | 384 | 630 |\n",
       "| 0 | 385 | 630 |\n",
       "| 0 | 386 | 630 |\n",
       "| 0 | 387 | 630 |\n",
       "| 0 | 388 | 630 |\n",
       "| 0 | 389 | 630 |\n",
       "| 0 | 390 | 630 |\n",
       "| 0 | 391 | 630 |\n",
       "| 0 | 392 | 630 |\n",
       "\n"
      ],
      "text/plain": [
       "       concentration ni  nj \n",
       "1      0             291 5  \n",
       "2      0             292 5  \n",
       "3      0             293 5  \n",
       "4      0             294 5  \n",
       "5      0             295 5  \n",
       "6      0             296 5  \n",
       "7      0             297 5  \n",
       "8      0             298 5  \n",
       "9      0             299 5  \n",
       "10     0             300 5  \n",
       "11     0             301 5  \n",
       "12     0             302 5  \n",
       "13     0             303 5  \n",
       "14     0             304 5  \n",
       "15     0             305 5  \n",
       "16     0             306 5  \n",
       "17     0             307 5  \n",
       "18     0             308 5  \n",
       "19     0             309 5  \n",
       "20     0             310 5  \n",
       "21     0             311 5  \n",
       "22     0             312 5  \n",
       "23     0             313 5  \n",
       "24     0             314 5  \n",
       "25     0             315 5  \n",
       "26     0             316 5  \n",
       "27     0             317 5  \n",
       "28     0             318 5  \n",
       "29     0             319 5  \n",
       "30     0             320 5  \n",
       "⋮      ⋮             ⋮   ⋮  \n",
       "207166 0             363 630\n",
       "207167 0             364 630\n",
       "207168 0             365 630\n",
       "207169 0             366 630\n",
       "207170 0             367 630\n",
       "207171 0             368 630\n",
       "207172 0             369 630\n",
       "207173 0             370 630\n",
       "207174 0             371 630\n",
       "207175 0             372 630\n",
       "207176 0             373 630\n",
       "207177 0             374 630\n",
       "207178 0             375 630\n",
       "207179 0             376 630\n",
       "207180 0             377 630\n",
       "207181 0             378 630\n",
       "207182 0             379 630\n",
       "207183 0             380 630\n",
       "207184 0             381 630\n",
       "207185 0             382 630\n",
       "207186 0             383 630\n",
       "207187 0             384 630\n",
       "207188 0             385 630\n",
       "207189 0             386 630\n",
       "207190 0             387 630\n",
       "207191 0             388 630\n",
       "207192 0             389 630\n",
       "207193 0             390 630\n",
       "207194 0             391 630\n",
       "207195 0             392 630"
      ]
     },
     "metadata": {},
     "output_type": "display_data"
    }
   ],
   "source": [
    "df"
   ]
  },
  {
   "cell_type": "markdown",
   "id": "d9ecd3ad",
   "metadata": {},
   "source": [
    "## Load xarray file"
   ]
  },
  {
   "cell_type": "code",
   "execution_count": 8,
   "id": "c29c5f16-3ceb-4846-8247-f7292c69ff23",
   "metadata": {
    "vscode": {
     "languageId": "r"
    }
   },
   "outputs": [
    {
     "data": {
      "text/plain": [
       "\n",
       "Data Source (1): xr_aborted.nc ...\n",
       "\n",
       "Grids (13) <dimension family> : <associated variables> \n",
       "\n",
       "[1]   D10,D6 : session_id\n",
       "[2]   D11,D6 : animal_id\n",
       "[3]   D6,D3  : hold_for_water_zscored_df_over_f, first_bar_off_zscored_df_over_f, first_spout_zscored_df_over_f, hold_for_water_zscored_df_over_f_analog_2, first_bar_off_zscored_df_over_f_analog_2, first_spout_zscored_df_over_f_analog_2    **ACTIVE GRID** ( 5108950  values per variable)\n",
       "[4]   D7,D6  : uid\n",
       "[5]   D8,D6  : trigger\n",
       "[6]   D9,D6  : trial_outcome\n",
       "[7]   D0     : lick_idx\n",
       "[8]   D1     : bar_off_idx\n",
       "[9]   D2     : spout_idx\n",
       "[10]   D3     : event_time\n",
       "[11]   D4     : US_end_timer_idx\n",
       "[12]   D5     : US_random_water_idx\n",
       "[13]   D6     : valid, Go_to_get_water, US_end_timer, break_after_abort, water_on, water by bar_off, water by spout, water for free, water success, button_press, busy_win_timer, spout, waiting_for_spout, US_jackpot, US_omission, US_random_water, Reward, Extra reward, success, first_reach_travel_time, last_bar_off_time, first_sig_bar_off_trial_time, first_bar_off_trial_time, diff_bar_off_time, diff_travel_time, trial_nb, zscore_inv_latency, engagement, is_ohda\n",
       "\n",
       "Dimensions 12 (2 active): \n",
       "  \n",
       "  dim   name       length   min   max start count  dmin  dmax unlim coord_dim \n",
       "  \u001b[3m\u001b[90m<chr>\u001b[39m\u001b[23m \u001b[3m\u001b[90m<chr>\u001b[39m\u001b[23m       \u001b[3m\u001b[90m<dbl>\u001b[39m\u001b[23m \u001b[3m\u001b[90m<dbl>\u001b[39m\u001b[23m \u001b[3m\u001b[90m<dbl>\u001b[39m\u001b[23m \u001b[3m\u001b[90m<int>\u001b[39m\u001b[23m \u001b[3m\u001b[90m<int>\u001b[39m\u001b[23m \u001b[3m\u001b[90m<dbl>\u001b[39m\u001b[23m \u001b[3m\u001b[90m<dbl>\u001b[39m\u001b[23m \u001b[3m\u001b[90m<lgl>\u001b[39m\u001b[23m \u001b[3m\u001b[90m<lgl>\u001b[39m\u001b[23m     \n",
       "\u001b[90m1\u001b[39m D3    event_time    350 -\u001b[31m\u001b[4m2\u001b[24m00\u001b[39m\u001b[31m0\u001b[39m  \u001b[4m3\u001b[24m000     1   350 -\u001b[31m\u001b[4m2\u001b[24m00\u001b[39m\u001b[31m0\u001b[39m  \u001b[4m3\u001b[24m000 FALSE TRUE      \n",
       "\u001b[90m2\u001b[39m D6    trial_id    \u001b[4m1\u001b[24m\u001b[4m4\u001b[24m597     1 \u001b[4m1\u001b[24m\u001b[4m4\u001b[24m597     1 \u001b[4m1\u001b[24m\u001b[4m4\u001b[24m597     1 \u001b[4m1\u001b[24m\u001b[4m4\u001b[24m597 FALSE FALSE     \n",
       "  \n",
       "Inactive dimensions:\n",
       "  \n",
       "   dim   name                length   min   max unlim coord_dim \n",
       "   \u001b[3m\u001b[90m<chr>\u001b[39m\u001b[23m \u001b[3m\u001b[90m<chr>\u001b[39m\u001b[23m                \u001b[3m\u001b[90m<dbl>\u001b[39m\u001b[23m \u001b[3m\u001b[90m<dbl>\u001b[39m\u001b[23m \u001b[3m\u001b[90m<dbl>\u001b[39m\u001b[23m \u001b[3m\u001b[90m<lgl>\u001b[39m\u001b[23m \u001b[3m\u001b[90m<lgl>\u001b[39m\u001b[23m     \n",
       "\u001b[90m 1\u001b[39m D0    lick_idx             \u001b[4m1\u001b[24m\u001b[4m0\u001b[24m003     0 \u001b[4m1\u001b[24m\u001b[4m0\u001b[24m002 FALSE TRUE      \n",
       "\u001b[90m 2\u001b[39m D1    bar_off_idx           \u001b[4m2\u001b[24m008     0  \u001b[4m2\u001b[24m007 FALSE TRUE      \n",
       "\u001b[90m 3\u001b[39m D2    spout_idx             \u001b[4m1\u001b[24m838     0  \u001b[4m1\u001b[24m837 FALSE TRUE      \n",
       "\u001b[90m 4\u001b[39m D4    US_end_timer_idx       197     0   196 FALSE TRUE      \n",
       "\u001b[90m 5\u001b[39m D5    US_random_water_idx     34     0    33 FALSE TRUE      \n",
       "\u001b[90m 6\u001b[39m D7    string36                36     1    36 FALSE FALSE     \n",
       "\u001b[90m 7\u001b[39m D8    string14                14     1    14 FALSE FALSE     \n",
       "\u001b[90m 8\u001b[39m D9    string10                 7     1     7 FALSE FALSE     \n",
       "\u001b[90m 9\u001b[39m D10   string23                23     1    23 FALSE FALSE     \n",
       "\u001b[90m10\u001b[39m D11   string5                  5     1     5 FALSE FALSE     "
      ]
     },
     "metadata": {},
     "output_type": "display_data"
    }
   ],
   "source": [
    "library(tidync)\n",
    "xarray_nc <- tidync(\"../../../trialexp_notebook_learning/xr_aborted.nc\")\n",
    "xarray_nc"
   ]
  },
  {
   "cell_type": "code",
   "execution_count": 12,
   "id": "0317c96e",
   "metadata": {
    "vscode": {
     "languageId": "r"
    }
   },
   "outputs": [
    {
     "data": {
      "text/html": [
       "<table class=\"dataframe\">\n",
       "<caption>A tibble: 6 × 6</caption>\n",
       "<thead>\n",
       "\t<tr><th scope=col>id</th><th scope=col>name</th><th scope=col>type</th><th scope=col>ndims</th><th scope=col>natts</th><th scope=col>dim_coord</th></tr>\n",
       "\t<tr><th scope=col>&lt;int&gt;</th><th scope=col>&lt;chr&gt;</th><th scope=col>&lt;chr&gt;</th><th scope=col>&lt;int&gt;</th><th scope=col>&lt;int&gt;</th><th scope=col>&lt;lgl&gt;</th></tr>\n",
       "</thead>\n",
       "<tbody>\n",
       "\t<tr><td>37</td><td>hold_for_water_zscored_df_over_f         </td><td>NC_DOUBLE</td><td>2</td><td>2</td><td>FALSE</td></tr>\n",
       "\t<tr><td>38</td><td>first_bar_off_zscored_df_over_f          </td><td>NC_DOUBLE</td><td>2</td><td>2</td><td>FALSE</td></tr>\n",
       "\t<tr><td>39</td><td>first_spout_zscored_df_over_f            </td><td>NC_DOUBLE</td><td>2</td><td>2</td><td>FALSE</td></tr>\n",
       "\t<tr><td>40</td><td>hold_for_water_zscored_df_over_f_analog_2</td><td>NC_DOUBLE</td><td>2</td><td>2</td><td>FALSE</td></tr>\n",
       "\t<tr><td>41</td><td>first_bar_off_zscored_df_over_f_analog_2 </td><td>NC_DOUBLE</td><td>2</td><td>2</td><td>FALSE</td></tr>\n",
       "\t<tr><td>42</td><td>first_spout_zscored_df_over_f_analog_2   </td><td>NC_DOUBLE</td><td>2</td><td>2</td><td>FALSE</td></tr>\n",
       "</tbody>\n",
       "</table>\n"
      ],
      "text/latex": [
       "A tibble: 6 × 6\n",
       "\\begin{tabular}{llllll}\n",
       " id & name & type & ndims & natts & dim\\_coord\\\\\n",
       " <int> & <chr> & <chr> & <int> & <int> & <lgl>\\\\\n",
       "\\hline\n",
       "\t 37 & hold\\_for\\_water\\_zscored\\_df\\_over\\_f          & NC\\_DOUBLE & 2 & 2 & FALSE\\\\\n",
       "\t 38 & first\\_bar\\_off\\_zscored\\_df\\_over\\_f           & NC\\_DOUBLE & 2 & 2 & FALSE\\\\\n",
       "\t 39 & first\\_spout\\_zscored\\_df\\_over\\_f             & NC\\_DOUBLE & 2 & 2 & FALSE\\\\\n",
       "\t 40 & hold\\_for\\_water\\_zscored\\_df\\_over\\_f\\_analog\\_2 & NC\\_DOUBLE & 2 & 2 & FALSE\\\\\n",
       "\t 41 & first\\_bar\\_off\\_zscored\\_df\\_over\\_f\\_analog\\_2  & NC\\_DOUBLE & 2 & 2 & FALSE\\\\\n",
       "\t 42 & first\\_spout\\_zscored\\_df\\_over\\_f\\_analog\\_2    & NC\\_DOUBLE & 2 & 2 & FALSE\\\\\n",
       "\\end{tabular}\n"
      ],
      "text/markdown": [
       "\n",
       "A tibble: 6 × 6\n",
       "\n",
       "| id &lt;int&gt; | name &lt;chr&gt; | type &lt;chr&gt; | ndims &lt;int&gt; | natts &lt;int&gt; | dim_coord &lt;lgl&gt; |\n",
       "|---|---|---|---|---|---|\n",
       "| 37 | hold_for_water_zscored_df_over_f          | NC_DOUBLE | 2 | 2 | FALSE |\n",
       "| 38 | first_bar_off_zscored_df_over_f           | NC_DOUBLE | 2 | 2 | FALSE |\n",
       "| 39 | first_spout_zscored_df_over_f             | NC_DOUBLE | 2 | 2 | FALSE |\n",
       "| 40 | hold_for_water_zscored_df_over_f_analog_2 | NC_DOUBLE | 2 | 2 | FALSE |\n",
       "| 41 | first_bar_off_zscored_df_over_f_analog_2  | NC_DOUBLE | 2 | 2 | FALSE |\n",
       "| 42 | first_spout_zscored_df_over_f_analog_2    | NC_DOUBLE | 2 | 2 | FALSE |\n",
       "\n"
      ],
      "text/plain": [
       "  id name                                      type      ndims natts dim_coord\n",
       "1 37 hold_for_water_zscored_df_over_f          NC_DOUBLE 2     2     FALSE    \n",
       "2 38 first_bar_off_zscored_df_over_f           NC_DOUBLE 2     2     FALSE    \n",
       "3 39 first_spout_zscored_df_over_f             NC_DOUBLE 2     2     FALSE    \n",
       "4 40 hold_for_water_zscored_df_over_f_analog_2 NC_DOUBLE 2     2     FALSE    \n",
       "5 41 first_bar_off_zscored_df_over_f_analog_2  NC_DOUBLE 2     2     FALSE    \n",
       "6 42 first_spout_zscored_df_over_f_analog_2    NC_DOUBLE 2     2     FALSE    "
      ]
     },
     "metadata": {},
     "output_type": "display_data"
    }
   ],
   "source": [
    "hyper_vars(xarray_nc)"
   ]
  },
  {
   "cell_type": "code",
   "execution_count": 16,
   "id": "3b8fb6ad",
   "metadata": {
    "vscode": {
     "languageId": "r"
    }
   },
   "outputs": [],
   "source": [
    "nc_grid <- activate(xarray_nc, \"D6,D3\")\n",
    "df <- hyper_tibble(nc_grid)"
   ]
  },
  {
   "cell_type": "code",
   "execution_count": 29,
   "id": "4e06abbb",
   "metadata": {
    "vscode": {
     "languageId": "r"
    }
   },
   "outputs": [
    {
     "data": {
      "text/html": [
       "<table class=\"dataframe\">\n",
       "<caption>A tibble: 4836300 × 3</caption>\n",
       "<thead>\n",
       "\t<tr><th scope=col>first_bar_off_zscored_df_over_f</th><th scope=col>event_time</th><th scope=col>trial_id</th></tr>\n",
       "\t<tr><th scope=col>&lt;dbl&gt;</th><th scope=col>&lt;chr&gt;</th><th scope=col>&lt;chr&gt;</th></tr>\n",
       "</thead>\n",
       "<tbody>\n",
       "\t<tr><td> 0.58949256</td><td>-2000</td><td>1 </td></tr>\n",
       "\t<tr><td>-0.42610866</td><td>-2000</td><td>2 </td></tr>\n",
       "\t<tr><td>-0.21162241</td><td>-2000</td><td>3 </td></tr>\n",
       "\t<tr><td> 0.06312187</td><td>-2000</td><td>4 </td></tr>\n",
       "\t<tr><td> 0.94192533</td><td>-2000</td><td>11</td></tr>\n",
       "\t<tr><td>-1.24835034</td><td>-2000</td><td>12</td></tr>\n",
       "\t<tr><td>-0.67955592</td><td>-2000</td><td>13</td></tr>\n",
       "\t<tr><td>-0.06938034</td><td>-2000</td><td>14</td></tr>\n",
       "\t<tr><td>-0.39262383</td><td>-2000</td><td>15</td></tr>\n",
       "\t<tr><td> 0.10876238</td><td>-2000</td><td>16</td></tr>\n",
       "\t<tr><td> 1.50017301</td><td>-2000</td><td>17</td></tr>\n",
       "\t<tr><td> 0.05155075</td><td>-2000</td><td>18</td></tr>\n",
       "\t<tr><td> 1.15916993</td><td>-2000</td><td>19</td></tr>\n",
       "\t<tr><td> 0.43947179</td><td>-2000</td><td>20</td></tr>\n",
       "\t<tr><td>-0.14699462</td><td>-2000</td><td>21</td></tr>\n",
       "\t<tr><td> 0.02418456</td><td>-2000</td><td>22</td></tr>\n",
       "\t<tr><td>-0.71657509</td><td>-2000</td><td>23</td></tr>\n",
       "\t<tr><td> 0.61090079</td><td>-2000</td><td>24</td></tr>\n",
       "\t<tr><td> 0.85959546</td><td>-2000</td><td>25</td></tr>\n",
       "\t<tr><td>-0.95679496</td><td>-2000</td><td>26</td></tr>\n",
       "\t<tr><td> 0.52640664</td><td>-2000</td><td>27</td></tr>\n",
       "\t<tr><td> 0.91051103</td><td>-2000</td><td>28</td></tr>\n",
       "\t<tr><td> 0.03302261</td><td>-2000</td><td>29</td></tr>\n",
       "\t<tr><td> 0.08226958</td><td>-2000</td><td>30</td></tr>\n",
       "\t<tr><td> 0.64452038</td><td>-2000</td><td>31</td></tr>\n",
       "\t<tr><td> 0.41382063</td><td>-2000</td><td>32</td></tr>\n",
       "\t<tr><td> 0.42977125</td><td>-2000</td><td>33</td></tr>\n",
       "\t<tr><td> 1.57592755</td><td>-2000</td><td>34</td></tr>\n",
       "\t<tr><td> 0.70119307</td><td>-2000</td><td>35</td></tr>\n",
       "\t<tr><td>-1.39343979</td><td>-2000</td><td>36</td></tr>\n",
       "\t<tr><td>⋮</td><td>⋮</td><td>⋮</td></tr>\n",
       "\t<tr><td>-1.081731302</td><td>3000</td><td>14568</td></tr>\n",
       "\t<tr><td>-0.650051570</td><td>3000</td><td>14569</td></tr>\n",
       "\t<tr><td> 1.323607661</td><td>3000</td><td>14570</td></tr>\n",
       "\t<tr><td>-0.150038695</td><td>3000</td><td>14571</td></tr>\n",
       "\t<tr><td> 0.164451082</td><td>3000</td><td>14572</td></tr>\n",
       "\t<tr><td> 0.255707543</td><td>3000</td><td>14573</td></tr>\n",
       "\t<tr><td> 0.971147534</td><td>3000</td><td>14574</td></tr>\n",
       "\t<tr><td>-0.021416764</td><td>3000</td><td>14575</td></tr>\n",
       "\t<tr><td> 0.226806059</td><td>3000</td><td>14576</td></tr>\n",
       "\t<tr><td> 0.207667940</td><td>3000</td><td>14577</td></tr>\n",
       "\t<tr><td> 0.555863509</td><td>3000</td><td>14578</td></tr>\n",
       "\t<tr><td>-0.816827776</td><td>3000</td><td>14579</td></tr>\n",
       "\t<tr><td>-0.977037145</td><td>3000</td><td>14580</td></tr>\n",
       "\t<tr><td>-0.360027417</td><td>3000</td><td>14581</td></tr>\n",
       "\t<tr><td>-1.274480830</td><td>3000</td><td>14582</td></tr>\n",
       "\t<tr><td>-0.786141276</td><td>3000</td><td>14583</td></tr>\n",
       "\t<tr><td>-0.791388565</td><td>3000</td><td>14584</td></tr>\n",
       "\t<tr><td> 0.748318619</td><td>3000</td><td>14585</td></tr>\n",
       "\t<tr><td> 1.486129862</td><td>3000</td><td>14586</td></tr>\n",
       "\t<tr><td> 1.213651264</td><td>3000</td><td>14587</td></tr>\n",
       "\t<tr><td> 0.006203999</td><td>3000</td><td>14588</td></tr>\n",
       "\t<tr><td> 0.305627415</td><td>3000</td><td>14589</td></tr>\n",
       "\t<tr><td> 0.582946766</td><td>3000</td><td>14590</td></tr>\n",
       "\t<tr><td>-1.766149039</td><td>3000</td><td>14591</td></tr>\n",
       "\t<tr><td>-1.569827492</td><td>3000</td><td>14592</td></tr>\n",
       "\t<tr><td> 0.669202185</td><td>3000</td><td>14593</td></tr>\n",
       "\t<tr><td> 1.199173059</td><td>3000</td><td>14594</td></tr>\n",
       "\t<tr><td> 2.539637075</td><td>3000</td><td>14595</td></tr>\n",
       "\t<tr><td>-0.710814221</td><td>3000</td><td>14596</td></tr>\n",
       "\t<tr><td>-1.127109759</td><td>3000</td><td>14597</td></tr>\n",
       "</tbody>\n",
       "</table>\n"
      ],
      "text/latex": [
       "A tibble: 4836300 × 3\n",
       "\\begin{tabular}{lll}\n",
       " first\\_bar\\_off\\_zscored\\_df\\_over\\_f & event\\_time & trial\\_id\\\\\n",
       " <dbl> & <chr> & <chr>\\\\\n",
       "\\hline\n",
       "\t  0.58949256 & -2000 & 1 \\\\\n",
       "\t -0.42610866 & -2000 & 2 \\\\\n",
       "\t -0.21162241 & -2000 & 3 \\\\\n",
       "\t  0.06312187 & -2000 & 4 \\\\\n",
       "\t  0.94192533 & -2000 & 11\\\\\n",
       "\t -1.24835034 & -2000 & 12\\\\\n",
       "\t -0.67955592 & -2000 & 13\\\\\n",
       "\t -0.06938034 & -2000 & 14\\\\\n",
       "\t -0.39262383 & -2000 & 15\\\\\n",
       "\t  0.10876238 & -2000 & 16\\\\\n",
       "\t  1.50017301 & -2000 & 17\\\\\n",
       "\t  0.05155075 & -2000 & 18\\\\\n",
       "\t  1.15916993 & -2000 & 19\\\\\n",
       "\t  0.43947179 & -2000 & 20\\\\\n",
       "\t -0.14699462 & -2000 & 21\\\\\n",
       "\t  0.02418456 & -2000 & 22\\\\\n",
       "\t -0.71657509 & -2000 & 23\\\\\n",
       "\t  0.61090079 & -2000 & 24\\\\\n",
       "\t  0.85959546 & -2000 & 25\\\\\n",
       "\t -0.95679496 & -2000 & 26\\\\\n",
       "\t  0.52640664 & -2000 & 27\\\\\n",
       "\t  0.91051103 & -2000 & 28\\\\\n",
       "\t  0.03302261 & -2000 & 29\\\\\n",
       "\t  0.08226958 & -2000 & 30\\\\\n",
       "\t  0.64452038 & -2000 & 31\\\\\n",
       "\t  0.41382063 & -2000 & 32\\\\\n",
       "\t  0.42977125 & -2000 & 33\\\\\n",
       "\t  1.57592755 & -2000 & 34\\\\\n",
       "\t  0.70119307 & -2000 & 35\\\\\n",
       "\t -1.39343979 & -2000 & 36\\\\\n",
       "\t ⋮ & ⋮ & ⋮\\\\\n",
       "\t -1.081731302 & 3000 & 14568\\\\\n",
       "\t -0.650051570 & 3000 & 14569\\\\\n",
       "\t  1.323607661 & 3000 & 14570\\\\\n",
       "\t -0.150038695 & 3000 & 14571\\\\\n",
       "\t  0.164451082 & 3000 & 14572\\\\\n",
       "\t  0.255707543 & 3000 & 14573\\\\\n",
       "\t  0.971147534 & 3000 & 14574\\\\\n",
       "\t -0.021416764 & 3000 & 14575\\\\\n",
       "\t  0.226806059 & 3000 & 14576\\\\\n",
       "\t  0.207667940 & 3000 & 14577\\\\\n",
       "\t  0.555863509 & 3000 & 14578\\\\\n",
       "\t -0.816827776 & 3000 & 14579\\\\\n",
       "\t -0.977037145 & 3000 & 14580\\\\\n",
       "\t -0.360027417 & 3000 & 14581\\\\\n",
       "\t -1.274480830 & 3000 & 14582\\\\\n",
       "\t -0.786141276 & 3000 & 14583\\\\\n",
       "\t -0.791388565 & 3000 & 14584\\\\\n",
       "\t  0.748318619 & 3000 & 14585\\\\\n",
       "\t  1.486129862 & 3000 & 14586\\\\\n",
       "\t  1.213651264 & 3000 & 14587\\\\\n",
       "\t  0.006203999 & 3000 & 14588\\\\\n",
       "\t  0.305627415 & 3000 & 14589\\\\\n",
       "\t  0.582946766 & 3000 & 14590\\\\\n",
       "\t -1.766149039 & 3000 & 14591\\\\\n",
       "\t -1.569827492 & 3000 & 14592\\\\\n",
       "\t  0.669202185 & 3000 & 14593\\\\\n",
       "\t  1.199173059 & 3000 & 14594\\\\\n",
       "\t  2.539637075 & 3000 & 14595\\\\\n",
       "\t -0.710814221 & 3000 & 14596\\\\\n",
       "\t -1.127109759 & 3000 & 14597\\\\\n",
       "\\end{tabular}\n"
      ],
      "text/markdown": [
       "\n",
       "A tibble: 4836300 × 3\n",
       "\n",
       "| first_bar_off_zscored_df_over_f &lt;dbl&gt; | event_time &lt;chr&gt; | trial_id &lt;chr&gt; |\n",
       "|---|---|---|\n",
       "|  0.58949256 | -2000 | 1  |\n",
       "| -0.42610866 | -2000 | 2  |\n",
       "| -0.21162241 | -2000 | 3  |\n",
       "|  0.06312187 | -2000 | 4  |\n",
       "|  0.94192533 | -2000 | 11 |\n",
       "| -1.24835034 | -2000 | 12 |\n",
       "| -0.67955592 | -2000 | 13 |\n",
       "| -0.06938034 | -2000 | 14 |\n",
       "| -0.39262383 | -2000 | 15 |\n",
       "|  0.10876238 | -2000 | 16 |\n",
       "|  1.50017301 | -2000 | 17 |\n",
       "|  0.05155075 | -2000 | 18 |\n",
       "|  1.15916993 | -2000 | 19 |\n",
       "|  0.43947179 | -2000 | 20 |\n",
       "| -0.14699462 | -2000 | 21 |\n",
       "|  0.02418456 | -2000 | 22 |\n",
       "| -0.71657509 | -2000 | 23 |\n",
       "|  0.61090079 | -2000 | 24 |\n",
       "|  0.85959546 | -2000 | 25 |\n",
       "| -0.95679496 | -2000 | 26 |\n",
       "|  0.52640664 | -2000 | 27 |\n",
       "|  0.91051103 | -2000 | 28 |\n",
       "|  0.03302261 | -2000 | 29 |\n",
       "|  0.08226958 | -2000 | 30 |\n",
       "|  0.64452038 | -2000 | 31 |\n",
       "|  0.41382063 | -2000 | 32 |\n",
       "|  0.42977125 | -2000 | 33 |\n",
       "|  1.57592755 | -2000 | 34 |\n",
       "|  0.70119307 | -2000 | 35 |\n",
       "| -1.39343979 | -2000 | 36 |\n",
       "| ⋮ | ⋮ | ⋮ |\n",
       "| -1.081731302 | 3000 | 14568 |\n",
       "| -0.650051570 | 3000 | 14569 |\n",
       "|  1.323607661 | 3000 | 14570 |\n",
       "| -0.150038695 | 3000 | 14571 |\n",
       "|  0.164451082 | 3000 | 14572 |\n",
       "|  0.255707543 | 3000 | 14573 |\n",
       "|  0.971147534 | 3000 | 14574 |\n",
       "| -0.021416764 | 3000 | 14575 |\n",
       "|  0.226806059 | 3000 | 14576 |\n",
       "|  0.207667940 | 3000 | 14577 |\n",
       "|  0.555863509 | 3000 | 14578 |\n",
       "| -0.816827776 | 3000 | 14579 |\n",
       "| -0.977037145 | 3000 | 14580 |\n",
       "| -0.360027417 | 3000 | 14581 |\n",
       "| -1.274480830 | 3000 | 14582 |\n",
       "| -0.786141276 | 3000 | 14583 |\n",
       "| -0.791388565 | 3000 | 14584 |\n",
       "|  0.748318619 | 3000 | 14585 |\n",
       "|  1.486129862 | 3000 | 14586 |\n",
       "|  1.213651264 | 3000 | 14587 |\n",
       "|  0.006203999 | 3000 | 14588 |\n",
       "|  0.305627415 | 3000 | 14589 |\n",
       "|  0.582946766 | 3000 | 14590 |\n",
       "| -1.766149039 | 3000 | 14591 |\n",
       "| -1.569827492 | 3000 | 14592 |\n",
       "|  0.669202185 | 3000 | 14593 |\n",
       "|  1.199173059 | 3000 | 14594 |\n",
       "|  2.539637075 | 3000 | 14595 |\n",
       "| -0.710814221 | 3000 | 14596 |\n",
       "| -1.127109759 | 3000 | 14597 |\n",
       "\n"
      ],
      "text/plain": [
       "        first_bar_off_zscored_df_over_f event_time trial_id\n",
       "1        0.58949256                     -2000      1       \n",
       "2       -0.42610866                     -2000      2       \n",
       "3       -0.21162241                     -2000      3       \n",
       "4        0.06312187                     -2000      4       \n",
       "5        0.94192533                     -2000      11      \n",
       "6       -1.24835034                     -2000      12      \n",
       "7       -0.67955592                     -2000      13      \n",
       "8       -0.06938034                     -2000      14      \n",
       "9       -0.39262383                     -2000      15      \n",
       "10       0.10876238                     -2000      16      \n",
       "11       1.50017301                     -2000      17      \n",
       "12       0.05155075                     -2000      18      \n",
       "13       1.15916993                     -2000      19      \n",
       "14       0.43947179                     -2000      20      \n",
       "15      -0.14699462                     -2000      21      \n",
       "16       0.02418456                     -2000      22      \n",
       "17      -0.71657509                     -2000      23      \n",
       "18       0.61090079                     -2000      24      \n",
       "19       0.85959546                     -2000      25      \n",
       "20      -0.95679496                     -2000      26      \n",
       "21       0.52640664                     -2000      27      \n",
       "22       0.91051103                     -2000      28      \n",
       "23       0.03302261                     -2000      29      \n",
       "24       0.08226958                     -2000      30      \n",
       "25       0.64452038                     -2000      31      \n",
       "26       0.41382063                     -2000      32      \n",
       "27       0.42977125                     -2000      33      \n",
       "28       1.57592755                     -2000      34      \n",
       "29       0.70119307                     -2000      35      \n",
       "30      -1.39343979                     -2000      36      \n",
       "⋮       ⋮                               ⋮          ⋮       \n",
       "4836271 -1.081731302                    3000       14568   \n",
       "4836272 -0.650051570                    3000       14569   \n",
       "4836273  1.323607661                    3000       14570   \n",
       "4836274 -0.150038695                    3000       14571   \n",
       "4836275  0.164451082                    3000       14572   \n",
       "4836276  0.255707543                    3000       14573   \n",
       "4836277  0.971147534                    3000       14574   \n",
       "4836278 -0.021416764                    3000       14575   \n",
       "4836279  0.226806059                    3000       14576   \n",
       "4836280  0.207667940                    3000       14577   \n",
       "4836281  0.555863509                    3000       14578   \n",
       "4836282 -0.816827776                    3000       14579   \n",
       "4836283 -0.977037145                    3000       14580   \n",
       "4836284 -0.360027417                    3000       14581   \n",
       "4836285 -1.274480830                    3000       14582   \n",
       "4836286 -0.786141276                    3000       14583   \n",
       "4836287 -0.791388565                    3000       14584   \n",
       "4836288  0.748318619                    3000       14585   \n",
       "4836289  1.486129862                    3000       14586   \n",
       "4836290  1.213651264                    3000       14587   \n",
       "4836291  0.006203999                    3000       14588   \n",
       "4836292  0.305627415                    3000       14589   \n",
       "4836293  0.582946766                    3000       14590   \n",
       "4836294 -1.766149039                    3000       14591   \n",
       "4836295 -1.569827492                    3000       14592   \n",
       "4836296  0.669202185                    3000       14593   \n",
       "4836297  1.199173059                    3000       14594   \n",
       "4836298  2.539637075                    3000       14595   \n",
       "4836299 -0.710814221                    3000       14596   \n",
       "4836300 -1.127109759                    3000       14597   "
      ]
     },
     "metadata": {},
     "output_type": "display_data"
    }
   ],
   "source": [
    "df[,c(\"first_bar_off_zscored_df_over_f\", \"event_time\", \"trial_id\")]"
   ]
  }
 ],
 "metadata": {
  "kernelspec": {
   "display_name": "R",
   "language": "R",
   "name": "ir"
  },
  "language_info": {
   "codemirror_mode": "r",
   "file_extension": ".r",
   "mimetype": "text/x-r-source",
   "name": "R",
   "pygments_lexer": "r",
   "version": "4.5.1"
  }
 },
 "nbformat": 4,
 "nbformat_minor": 5
}
