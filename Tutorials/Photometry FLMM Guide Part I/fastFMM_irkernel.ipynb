{
 "cells": [
  {
   "cell_type": "markdown",
   "id": "cb9210b9-f39d-4094-9f74-e0bb3926dcfe",
   "metadata": {},
   "source": [
    "# Running fastFMM directly in a IRkernel"
   ]
  },
  {
   "cell_type": "code",
   "execution_count": 3,
   "id": "bf3785b9-0445-4553-8f2e-562a3158f75f",
   "metadata": {},
   "outputs": [],
   "source": [
    "require('fastFMM')"
   ]
  },
  {
   "cell_type": "code",
   "execution_count": 4,
   "id": "ea313525-037e-4359-a90f-1b87818197b8",
   "metadata": {},
   "outputs": [
    {
     "data": {
      "text/html": [
       "<table class=\"dataframe\">\n",
       "<caption>A matrix: 6 × 10 of type dbl</caption>\n",
       "<thead>\n",
       "\t<tr><th scope=col>id</th><th scope=col>session</th><th scope=col>trial</th><th scope=col>cs</th><th scope=col>photometry.1</th><th scope=col>photometry.2</th><th scope=col>photometry.3</th><th scope=col>photometry.4</th><th scope=col>photometry.5</th><th scope=col>photometry.6</th></tr>\n",
       "</thead>\n",
       "<tbody>\n",
       "\t<tr><td>3</td><td>1</td><td>1</td><td>0</td><td>-0.810</td><td>-0.626</td><td>-0.484</td><td>-0.414</td><td>-0.336</td><td>-0.335</td></tr>\n",
       "\t<tr><td>3</td><td>1</td><td>2</td><td>0</td><td>-0.037</td><td>-0.136</td><td> 0.005</td><td>-0.022</td><td> 0.029</td><td> 0.251</td></tr>\n",
       "\t<tr><td>3</td><td>1</td><td>3</td><td>0</td><td>-0.241</td><td>-0.058</td><td> 0.037</td><td>-0.075</td><td>-0.242</td><td>-0.276</td></tr>\n",
       "\t<tr><td>3</td><td>1</td><td>4</td><td>0</td><td> 0.058</td><td> 0.032</td><td>-0.041</td><td> 0.080</td><td> 0.062</td><td>-0.047</td></tr>\n",
       "\t<tr><td>3</td><td>1</td><td>5</td><td>0</td><td>-0.134</td><td> 0.024</td><td> 0.017</td><td>-0.128</td><td>-0.108</td><td>-0.086</td></tr>\n",
       "\t<tr><td>3</td><td>1</td><td>6</td><td>0</td><td>-0.547</td><td>-0.547</td><td>-0.444</td><td>-0.380</td><td>-0.309</td><td>-0.329</td></tr>\n",
       "</tbody>\n",
       "</table>\n"
      ],
      "text/latex": [
       "A matrix: 6 × 10 of type dbl\n",
       "\\begin{tabular}{llllllllll}\n",
       " id & session & trial & cs & photometry.1 & photometry.2 & photometry.3 & photometry.4 & photometry.5 & photometry.6\\\\\n",
       "\\hline\n",
       "\t 3 & 1 & 1 & 0 & -0.810 & -0.626 & -0.484 & -0.414 & -0.336 & -0.335\\\\\n",
       "\t 3 & 1 & 2 & 0 & -0.037 & -0.136 &  0.005 & -0.022 &  0.029 &  0.251\\\\\n",
       "\t 3 & 1 & 3 & 0 & -0.241 & -0.058 &  0.037 & -0.075 & -0.242 & -0.276\\\\\n",
       "\t 3 & 1 & 4 & 0 &  0.058 &  0.032 & -0.041 &  0.080 &  0.062 & -0.047\\\\\n",
       "\t 3 & 1 & 5 & 0 & -0.134 &  0.024 &  0.017 & -0.128 & -0.108 & -0.086\\\\\n",
       "\t 3 & 1 & 6 & 0 & -0.547 & -0.547 & -0.444 & -0.380 & -0.309 & -0.329\\\\\n",
       "\\end{tabular}\n"
      ],
      "text/markdown": [
       "\n",
       "A matrix: 6 × 10 of type dbl\n",
       "\n",
       "| id | session | trial | cs | photometry.1 | photometry.2 | photometry.3 | photometry.4 | photometry.5 | photometry.6 |\n",
       "|---|---|---|---|---|---|---|---|---|---|\n",
       "| 3 | 1 | 1 | 0 | -0.810 | -0.626 | -0.484 | -0.414 | -0.336 | -0.335 |\n",
       "| 3 | 1 | 2 | 0 | -0.037 | -0.136 |  0.005 | -0.022 |  0.029 |  0.251 |\n",
       "| 3 | 1 | 3 | 0 | -0.241 | -0.058 |  0.037 | -0.075 | -0.242 | -0.276 |\n",
       "| 3 | 1 | 4 | 0 |  0.058 |  0.032 | -0.041 |  0.080 |  0.062 | -0.047 |\n",
       "| 3 | 1 | 5 | 0 | -0.134 |  0.024 |  0.017 | -0.128 | -0.108 | -0.086 |\n",
       "| 3 | 1 | 6 | 0 | -0.547 | -0.547 | -0.444 | -0.380 | -0.309 | -0.329 |\n",
       "\n"
      ],
      "text/plain": [
       "     id session trial cs photometry.1 photometry.2 photometry.3 photometry.4\n",
       "[1,] 3  1       1     0  -0.810       -0.626       -0.484       -0.414      \n",
       "[2,] 3  1       2     0  -0.037       -0.136        0.005       -0.022      \n",
       "[3,] 3  1       3     0  -0.241       -0.058        0.037       -0.075      \n",
       "[4,] 3  1       4     0   0.058        0.032       -0.041        0.080      \n",
       "[5,] 3  1       5     0  -0.134        0.024        0.017       -0.128      \n",
       "[6,] 3  1       6     0  -0.547       -0.547       -0.444       -0.380      \n",
       "     photometry.5 photometry.6\n",
       "[1,] -0.336       -0.335      \n",
       "[2,]  0.029        0.251      \n",
       "[3,] -0.242       -0.276      \n",
       "[4,]  0.062       -0.047      \n",
       "[5,] -0.108       -0.086      \n",
       "[6,] -0.309       -0.329      "
      ]
     },
     "metadata": {},
     "output_type": "display_data"
    }
   ],
   "source": [
    "dat = read.csv(\"binary.csv\") # read in data\n",
    "head(as.matrix(round(dat[,1:10], 3)))"
   ]
  },
  {
   "cell_type": "code",
   "execution_count": 5,
   "id": "a23814af-5711-4a00-a5b9-b60240ad3715",
   "metadata": {},
   "outputs": [
    {
     "name": "stderr",
     "output_type": "stream",
     "text": [
      "Number of cores used for parallelization: 21\n",
      "\n"
     ]
    },
    {
     "name": "stdout",
     "output_type": "stream",
     "text": [
      "[1] \"Step 1: Fit Massively Univariate Mixed Models\"\n",
      "[1] \"Step 2: Smoothing\"\n",
      "[1] \"Step 3: Inference (Analytic)\"\n",
      "[1] \"Step 3.1: Preparation\"\n",
      "[1] \"Step 3.1.1: Preparation B\"\n",
      "[1] \"Step 3.1.1: Method of Moments Covariance Estimator\"\n",
      "[1] \"Step 3.1.2: Smooth G\"\n",
      "[1] \"Step 3.2: First step\"\n",
      "[1] \"Step 3.2.1: First step\"\n",
      "[1] \"Step 3.3: Second step\"\n"
     ]
    },
    {
     "name": "stderr",
     "output_type": "stream",
     "text": [
      "Complete!\n",
      " - Use plot_fui() function to plot estimates.\n",
      " - For more information, run the command:  ?plot_fui\n",
      "\n"
     ]
    }
   ],
   "source": [
    "mod = fui(photometry ~ cs + (cs | id), data = dat, parallel = TRUE) # fit random slope model\n"
   ]
  },
  {
   "cell_type": "code",
   "execution_count": 10,
   "id": "17a1664b-5206-49d3-b8fa-8f10389856b3",
   "metadata": {},
   "outputs": [
    {
     "data": {
      "image/png": "[encoded data removed]",
      "text/plain": [
       "plot without title"
      ]
     },
     "metadata": {
      "image/png": {
       "height": 420,
       "width": 420
      }
     },
     "output_type": "display_data"
    }
   ],
   "source": [
    "model_results = plot_fui(mod,  return = TRUE)"
   ]
  },
  {
   "cell_type": "code",
   "execution_count": 13,
   "id": "ca0ed090-d67b-4152-abf2-19f497d7604b",
   "metadata": {},
   "outputs": [
    {
     "ename": "ERROR",
     "evalue": "Error in type(model_results): could not find function \"type\"\n",
     "output_type": "error",
     "traceback": [
      "Error in type(model_results): could not find function \"type\"\nTraceback:\n"
     ]
    }
   ],
   "source": [
    "type(model_results)"
   ]
  },
  {
   "cell_type": "code",
   "execution_count": 15,
   "id": "ef21571e-17b9-49d1-bf9b-0e5e9647d1f3",
   "metadata": {},
   "outputs": [],
   "source": [
    "library(ncdf4)"
   ]
  },
  {
   "cell_type": "code",
   "execution_count": 16,
   "id": "ea8b2e51-618f-486a-a63e-79292a75c7f2",
   "metadata": {},
   "outputs": [],
   "source": [
    "nc <- nc_open(\"sresa1b_ncar_ccsm3-example.nc\")"
   ]
  },
  {
   "cell_type": "code",
   "execution_count": 25,
   "id": "5ad19e57-a7e9-4871-b527-48e44a285e41",
   "metadata": {},
   "outputs": [],
   "source": [
    "pr <- nc$var[['pr']]"
   ]
  },
  {
   "cell_type": "markdown",
   "id": "09e9cb5b-aa69-4a54-9d52-0e282bcd343b",
   "metadata": {},
   "source": [
    "# use tidync"
   ]
  },
  {
   "cell_type": "code",
   "execution_count": 27,
   "id": "1be5ec79-7e97-44ea-9a5b-887f5c5dc6cb",
   "metadata": {},
   "outputs": [],
   "source": [
    "ice_file <- system.file(\"extdata\", \"ifremer\", \"20171002.nc\", package = \"tidync\", mustWork = TRUE)"
   ]
  },
  {
   "cell_type": "code",
   "execution_count": 40,
   "id": "12e2f5bc-4ebe-4946-b846-5ba326bcd187",
   "metadata": {},
   "outputs": [],
   "source": [
    "library(tidync)\n",
    "nc <-tidync(ice_file)"
   ]
  },
  {
   "cell_type": "code",
   "execution_count": 41,
   "id": "20530315-337a-4d52-a8ec-5747f0440fab",
   "metadata": {},
   "outputs": [
    {
     "data": {
      "text/plain": [
       "\n",
       "Data Source (1): 20171002.nc ...\n",
       "\n",
       "Grids (2) <dimension family> : <associated variables> \n",
       "\n",
       "[1]   D0,D1,D2 : concentration, quality_flag    **ACTIVE GRID** ( 419648  values per variable)\n",
       "[2]   D2       : time\n",
       "\n",
       "Dimensions 3 (all active): \n",
       "  \n",
       "  dim   name  length     min     max start count    dmin    dmax unlim coord_dim \n",
       "  \u001b[3m\u001b[90m<chr>\u001b[39m\u001b[23m \u001b[3m\u001b[90m<chr>\u001b[39m\u001b[23m  \u001b[3m\u001b[90m<dbl>\u001b[39m\u001b[23m   \u001b[3m\u001b[90m<dbl>\u001b[39m\u001b[23m   \u001b[3m\u001b[90m<dbl>\u001b[39m\u001b[23m \u001b[3m\u001b[90m<int>\u001b[39m\u001b[23m \u001b[3m\u001b[90m<int>\u001b[39m\u001b[23m   \u001b[3m\u001b[90m<dbl>\u001b[39m\u001b[23m   \u001b[3m\u001b[90m<dbl>\u001b[39m\u001b[23m \u001b[3m\u001b[90m<lgl>\u001b[39m\u001b[23m \u001b[3m\u001b[90m<lgl>\u001b[39m\u001b[23m     \n",
       "\u001b[90m1\u001b[39m D0    ni       632       1     632     1   632       1     632 FALSE FALSE     \n",
       "\u001b[90m2\u001b[39m D1    nj       664       1     664     1   664       1     664 FALSE FALSE     \n",
       "\u001b[90m3\u001b[39m D2    time       1 1\u001b[4m0\u001b[24m\u001b[4m3\u001b[24m\u001b[4m2\u001b[24m204 1\u001b[4m0\u001b[24m\u001b[4m3\u001b[24m\u001b[4m2\u001b[24m204     1     1 1\u001b[4m0\u001b[24m\u001b[4m3\u001b[24m\u001b[4m2\u001b[24m204 1\u001b[4m0\u001b[24m\u001b[4m3\u001b[24m\u001b[4m2\u001b[24m204 FALSE TRUE      "
      ]
     },
     "metadata": {},
     "output_type": "display_data"
    }
   ],
   "source": [
    "nc"
   ]
  },
  {
   "cell_type": "code",
   "execution_count": 31,
   "id": "8d69339a-a8a5-4415-8bc1-5b15a22c4943",
   "metadata": {},
   "outputs": [],
   "source": [
    "hf <- concentration %>% \n",
    "  hyper_filter(ni = index > 150, \n",
    "               nj = dplyr::between(index, 30, 100))"
   ]
  },
  {
   "cell_type": "code",
   "execution_count": 33,
   "id": "23d769f2-48a6-417c-b20d-58b21505c030",
   "metadata": {},
   "outputs": [
    {
     "data": {
      "text/plain": [
       "Class: tidync_data (list of tidync data arrays)\n",
       "Variables (2): 'concentration', 'quality_flag'\n",
       "Dimension (2): ni,nj,time (482, 71)\n",
       "Source: /home/MRC.OX.AC.UK/ndcn1330/R/x86_64-pc-linux-gnu-library/4.5/tidync/extdata/ifremer/20171002.nc"
      ]
     },
     "metadata": {},
     "output_type": "display_data"
    }
   ],
   "source": [
    "hf %>% hyper_array()"
   ]
  },
  {
   "cell_type": "code",
   "execution_count": 44,
   "id": "3fd03e92-e332-4f3e-b719-73b22d8020c5",
   "metadata": {},
   "outputs": [],
   "source": [
    "df <- nc %>%\n",
    "  hyper_tibble(select_var = c(\"concentration\"))"
   ]
  },
  {
   "cell_type": "code",
   "execution_count": 45,
   "id": "d7c8b630-385e-4d84-9138-473c724d20d9",
   "metadata": {},
   "outputs": [
    {
     "data": {
      "text/html": [
       "<table class=\"dataframe\">\n",
       "<caption>A tibble: 207195 × 3</caption>\n",
       "<thead>\n",
       "\t<tr><th scope=col>concentration</th><th scope=col>ni</th><th scope=col>nj</th></tr>\n",
       "\t<tr><th scope=col>&lt;int&gt;</th><th scope=col>&lt;chr&gt;</th><th scope=col>&lt;chr&gt;</th></tr>\n",
       "</thead>\n",
       "<tbody>\n",
       "\t<tr><td>0</td><td>291</td><td>5</td></tr>\n",
       "\t<tr><td>0</td><td>292</td><td>5</td></tr>\n",
       "\t<tr><td>0</td><td>293</td><td>5</td></tr>\n",
       "\t<tr><td>0</td><td>294</td><td>5</td></tr>\n",
       "\t<tr><td>0</td><td>295</td><td>5</td></tr>\n",
       "\t<tr><td>0</td><td>296</td><td>5</td></tr>\n",
       "\t<tr><td>0</td><td>297</td><td>5</td></tr>\n",
       "\t<tr><td>0</td><td>298</td><td>5</td></tr>\n",
       "\t<tr><td>0</td><td>299</td><td>5</td></tr>\n",
       "\t<tr><td>0</td><td>300</td><td>5</td></tr>\n",
       "\t<tr><td>0</td><td>301</td><td>5</td></tr>\n",
       "\t<tr><td>0</td><td>302</td><td>5</td></tr>\n",
       "\t<tr><td>0</td><td>303</td><td>5</td></tr>\n",
       "\t<tr><td>0</td><td>304</td><td>5</td></tr>\n",
       "\t<tr><td>0</td><td>305</td><td>5</td></tr>\n",
       "\t<tr><td>0</td><td>306</td><td>5</td></tr>\n",
       "\t<tr><td>0</td><td>307</td><td>5</td></tr>\n",
       "\t<tr><td>0</td><td>308</td><td>5</td></tr>\n",
       "\t<tr><td>0</td><td>309</td><td>5</td></tr>\n",
       "\t<tr><td>0</td><td>310</td><td>5</td></tr>\n",
       "\t<tr><td>0</td><td>311</td><td>5</td></tr>\n",
       "\t<tr><td>0</td><td>312</td><td>5</td></tr>\n",
       "\t<tr><td>0</td><td>313</td><td>5</td></tr>\n",
       "\t<tr><td>0</td><td>314</td><td>5</td></tr>\n",
       "\t<tr><td>0</td><td>315</td><td>5</td></tr>\n",
       "\t<tr><td>0</td><td>316</td><td>5</td></tr>\n",
       "\t<tr><td>0</td><td>317</td><td>5</td></tr>\n",
       "\t<tr><td>0</td><td>318</td><td>5</td></tr>\n",
       "\t<tr><td>0</td><td>319</td><td>5</td></tr>\n",
       "\t<tr><td>0</td><td>320</td><td>5</td></tr>\n",
       "\t<tr><td>⋮</td><td>⋮</td><td>⋮</td></tr>\n",
       "\t<tr><td>0</td><td>363</td><td>630</td></tr>\n",
       "\t<tr><td>0</td><td>364</td><td>630</td></tr>\n",
       "\t<tr><td>0</td><td>365</td><td>630</td></tr>\n",
       "\t<tr><td>0</td><td>366</td><td>630</td></tr>\n",
       "\t<tr><td>0</td><td>367</td><td>630</td></tr>\n",
       "\t<tr><td>0</td><td>368</td><td>630</td></tr>\n",
       "\t<tr><td>0</td><td>369</td><td>630</td></tr>\n",
       "\t<tr><td>0</td><td>370</td><td>630</td></tr>\n",
       "\t<tr><td>0</td><td>371</td><td>630</td></tr>\n",
       "\t<tr><td>0</td><td>372</td><td>630</td></tr>\n",
       "\t<tr><td>0</td><td>373</td><td>630</td></tr>\n",
       "\t<tr><td>0</td><td>374</td><td>630</td></tr>\n",
       "\t<tr><td>0</td><td>375</td><td>630</td></tr>\n",
       "\t<tr><td>0</td><td>376</td><td>630</td></tr>\n",
       "\t<tr><td>0</td><td>377</td><td>630</td></tr>\n",
       "\t<tr><td>0</td><td>378</td><td>630</td></tr>\n",
       "\t<tr><td>0</td><td>379</td><td>630</td></tr>\n",
       "\t<tr><td>0</td><td>380</td><td>630</td></tr>\n",
       "\t<tr><td>0</td><td>381</td><td>630</td></tr>\n",
       "\t<tr><td>0</td><td>382</td><td>630</td></tr>\n",
       "\t<tr><td>0</td><td>383</td><td>630</td></tr>\n",
       "\t<tr><td>0</td><td>384</td><td>630</td></tr>\n",
       "\t<tr><td>0</td><td>385</td><td>630</td></tr>\n",
       "\t<tr><td>0</td><td>386</td><td>630</td></tr>\n",
       "\t<tr><td>0</td><td>387</td><td>630</td></tr>\n",
       "\t<tr><td>0</td><td>388</td><td>630</td></tr>\n",
       "\t<tr><td>0</td><td>389</td><td>630</td></tr>\n",
       "\t<tr><td>0</td><td>390</td><td>630</td></tr>\n",
       "\t<tr><td>0</td><td>391</td><td>630</td></tr>\n",
       "\t<tr><td>0</td><td>392</td><td>630</td></tr>\n",
       "</tbody>\n",
       "</table>\n"
      ],
      "text/latex": [
       "A tibble: 207195 × 3\n",
       "\\begin{tabular}{lll}\n",
       " concentration & ni & nj\\\\\n",
       " <int> & <chr> & <chr>\\\\\n",
       "\\hline\n",
       "\t 0 & 291 & 5\\\\\n",
       "\t 0 & 292 & 5\\\\\n",
       "\t 0 & 293 & 5\\\\\n",
       "\t 0 & 294 & 5\\\\\n",
       "\t 0 & 295 & 5\\\\\n",
       "\t 0 & 296 & 5\\\\\n",
       "\t 0 & 297 & 5\\\\\n",
       "\t 0 & 298 & 5\\\\\n",
       "\t 0 & 299 & 5\\\\\n",
       "\t 0 & 300 & 5\\\\\n",
       "\t 0 & 301 & 5\\\\\n",
       "\t 0 & 302 & 5\\\\\n",
       "\t 0 & 303 & 5\\\\\n",
       "\t 0 & 304 & 5\\\\\n",
       "\t 0 & 305 & 5\\\\\n",
       "\t 0 & 306 & 5\\\\\n",
       "\t 0 & 307 & 5\\\\\n",
       "\t 0 & 308 & 5\\\\\n",
       "\t 0 & 309 & 5\\\\\n",
       "\t 0 & 310 & 5\\\\\n",
       "\t 0 & 311 & 5\\\\\n",
       "\t 0 & 312 & 5\\\\\n",
       "\t 0 & 313 & 5\\\\\n",
       "\t 0 & 314 & 5\\\\\n",
       "\t 0 & 315 & 5\\\\\n",
       "\t 0 & 316 & 5\\\\\n",
       "\t 0 & 317 & 5\\\\\n",
       "\t 0 & 318 & 5\\\\\n",
       "\t 0 & 319 & 5\\\\\n",
       "\t 0 & 320 & 5\\\\\n",
       "\t ⋮ & ⋮ & ⋮\\\\\n",
       "\t 0 & 363 & 630\\\\\n",
       "\t 0 & 364 & 630\\\\\n",
       "\t 0 & 365 & 630\\\\\n",
       "\t 0 & 366 & 630\\\\\n",
       "\t 0 & 367 & 630\\\\\n",
       "\t 0 & 368 & 630\\\\\n",
       "\t 0 & 369 & 630\\\\\n",
       "\t 0 & 370 & 630\\\\\n",
       "\t 0 & 371 & 630\\\\\n",
       "\t 0 & 372 & 630\\\\\n",
       "\t 0 & 373 & 630\\\\\n",
       "\t 0 & 374 & 630\\\\\n",
       "\t 0 & 375 & 630\\\\\n",
       "\t 0 & 376 & 630\\\\\n",
       "\t 0 & 377 & 630\\\\\n",
       "\t 0 & 378 & 630\\\\\n",
       "\t 0 & 379 & 630\\\\\n",
       "\t 0 & 380 & 630\\\\\n",
       "\t 0 & 381 & 630\\\\\n",
       "\t 0 & 382 & 630\\\\\n",
       "\t 0 & 383 & 630\\\\\n",
       "\t 0 & 384 & 630\\\\\n",
       "\t 0 & 385 & 630\\\\\n",
       "\t 0 & 386 & 630\\\\\n",
       "\t 0 & 387 & 630\\\\\n",
       "\t 0 & 388 & 630\\\\\n",
       "\t 0 & 389 & 630\\\\\n",
       "\t 0 & 390 & 630\\\\\n",
       "\t 0 & 391 & 630\\\\\n",
       "\t 0 & 392 & 630\\\\\n",
       "\\end{tabular}\n"
      ],
      "text/markdown": [
       "\n",
       "A tibble: 207195 × 3\n",
       "\n",
       "| concentration &lt;int&gt; | ni &lt;chr&gt; | nj &lt;chr&gt; |\n",
       "|---|---|---|\n",
       "| 0 | 291 | 5 |\n",
       "| 0 | 292 | 5 |\n",
       "| 0 | 293 | 5 |\n",
       "| 0 | 294 | 5 |\n",
       "| 0 | 295 | 5 |\n",
       "| 0 | 296 | 5 |\n",
       "| 0 | 297 | 5 |\n",
       "| 0 | 298 | 5 |\n",
       "| 0 | 299 | 5 |\n",
       "| 0 | 300 | 5 |\n",
       "| 0 | 301 | 5 |\n",
       "| 0 | 302 | 5 |\n",
       "| 0 | 303 | 5 |\n",
       "| 0 | 304 | 5 |\n",
       "| 0 | 305 | 5 |\n",
       "| 0 | 306 | 5 |\n",
       "| 0 | 307 | 5 |\n",
       "| 0 | 308 | 5 |\n",
       "| 0 | 309 | 5 |\n",
       "| 0 | 310 | 5 |\n",
       "| 0 | 311 | 5 |\n",
       "| 0 | 312 | 5 |\n",
       "| 0 | 313 | 5 |\n",
       "| 0 | 314 | 5 |\n",
       "| 0 | 315 | 5 |\n",
       "| 0 | 316 | 5 |\n",
       "| 0 | 317 | 5 |\n",
       "| 0 | 318 | 5 |\n",
       "| 0 | 319 | 5 |\n",
       "| 0 | 320 | 5 |\n",
       "| ⋮ | ⋮ | ⋮ |\n",
       "| 0 | 363 | 630 |\n",
       "| 0 | 364 | 630 |\n",
       "| 0 | 365 | 630 |\n",
       "| 0 | 366 | 630 |\n",
       "| 0 | 367 | 630 |\n",
       "| 0 | 368 | 630 |\n",
       "| 0 | 369 | 630 |\n",
       "| 0 | 370 | 630 |\n",
       "| 0 | 371 | 630 |\n",
       "| 0 | 372 | 630 |\n",
       "| 0 | 373 | 630 |\n",
       "| 0 | 374 | 630 |\n",
       "| 0 | 375 | 630 |\n",
       "| 0 | 376 | 630 |\n",
       "| 0 | 377 | 630 |\n",
       "| 0 | 378 | 630 |\n",
       "| 0 | 379 | 630 |\n",
       "| 0 | 380 | 630 |\n",
       "| 0 | 381 | 630 |\n",
       "| 0 | 382 | 630 |\n",
       "| 0 | 383 | 630 |\n",
       "| 0 | 384 | 630 |\n",
       "| 0 | 385 | 630 |\n",
       "| 0 | 386 | 630 |\n",
       "| 0 | 387 | 630 |\n",
       "| 0 | 388 | 630 |\n",
       "| 0 | 389 | 630 |\n",
       "| 0 | 390 | 630 |\n",
       "| 0 | 391 | 630 |\n",
       "| 0 | 392 | 630 |\n",
       "\n"
      ],
      "text/plain": [
       "       concentration ni  nj \n",
       "1      0             291 5  \n",
       "2      0             292 5  \n",
       "3      0             293 5  \n",
       "4      0             294 5  \n",
       "5      0             295 5  \n",
       "6      0             296 5  \n",
       "7      0             297 5  \n",
       "8      0             298 5  \n",
       "9      0             299 5  \n",
       "10     0             300 5  \n",
       "11     0             301 5  \n",
       "12     0             302 5  \n",
       "13     0             303 5  \n",
       "14     0             304 5  \n",
       "15     0             305 5  \n",
       "16     0             306 5  \n",
       "17     0             307 5  \n",
       "18     0             308 5  \n",
       "19     0             309 5  \n",
       "20     0             310 5  \n",
       "21     0             311 5  \n",
       "22     0             312 5  \n",
       "23     0             313 5  \n",
       "24     0             314 5  \n",
       "25     0             315 5  \n",
       "26     0             316 5  \n",
       "27     0             317 5  \n",
       "28     0             318 5  \n",
       "29     0             319 5  \n",
       "30     0             320 5  \n",
       "⋮      ⋮             ⋮   ⋮  \n",
       "207166 0             363 630\n",
       "207167 0             364 630\n",
       "207168 0             365 630\n",
       "207169 0             366 630\n",
       "207170 0             367 630\n",
       "207171 0             368 630\n",
       "207172 0             369 630\n",
       "207173 0             370 630\n",
       "207174 0             371 630\n",
       "207175 0             372 630\n",
       "207176 0             373 630\n",
       "207177 0             374 630\n",
       "207178 0             375 630\n",
       "207179 0             376 630\n",
       "207180 0             377 630\n",
       "207181 0             378 630\n",
       "207182 0             379 630\n",
       "207183 0             380 630\n",
       "207184 0             381 630\n",
       "207185 0             382 630\n",
       "207186 0             383 630\n",
       "207187 0             384 630\n",
       "207188 0             385 630\n",
       "207189 0             386 630\n",
       "207190 0             387 630\n",
       "207191 0             388 630\n",
       "207192 0             389 630\n",
       "207193 0             390 630\n",
       "207194 0             391 630\n",
       "207195 0             392 630"
      ]
     },
     "metadata": {},
     "output_type": "display_data"
    }
   ],
   "source": [
    "df"
   ]
  },
  {
   "cell_type": "code",
   "execution_count": null,
   "id": "c29c5f16-3ceb-4846-8247-f7292c69ff23",
   "metadata": {},
   "outputs": [],
   "source": []
  }
 ],
 "metadata": {
  "kernelspec": {
   "display_name": "R",
   "language": "R",
   "name": "ir"
  },
  "language_info": {
   "codemirror_mode": "r",
   "file_extension": ".r",
   "mimetype": "text/x-r-source",
   "name": "R",
   "pygments_lexer": "r",
   "version": "4.5.1"
  }
 },
 "nbformat": 4,
 "nbformat_minor": 5
}
