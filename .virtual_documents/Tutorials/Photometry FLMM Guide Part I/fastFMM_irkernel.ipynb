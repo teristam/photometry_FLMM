


require('fastFMM')


dat = read.csv("binary.csv") # read in data
head(as.matrix(round(dat[,1:10], 3)))


mod = fui(photometry ~ cs + (cs | id), data = dat, parallel = TRUE) # fit random slope model



model_results = plot_fui(mod,  return = TRUE)


type(model_results)


library(ncdf4)


nc <- nc_open("sresa1b_ncar_ccsm3-example.nc")


pr <- nc$var[['pr']]





ice_file <- system.file("extdata", "ifremer", "20171002.nc", package = "tidync", mustWork = TRUE)


library(tidync)
nc <-tidync(ice_file)


nc


hf <- concentration %>% 
  hyper_filter(ni = index > 150, 
               nj = dplyr::between(index, 30, 100))


hf %>% hyper_array()


df <- nc %>%
  hyper_tibble(select_var = c("concentration"))


df






